{
 "cells": [
  {
   "cell_type": "markdown",
   "metadata": {},
   "source": [
    "This demo shows how MulitQC intermediate format based on parquet can be used to explore data across multiple runs.\n",
    "\n",
    "First, let's run MultiQC a bunch of times."
   ]
  },
  {
   "cell_type": "code",
   "execution_count": 4,
   "metadata": {},
   "outputs": [
    {
     "name": "stderr",
     "output_type": "stream",
     "text": [
      "\u001b[34m           multiqc\u001b[0m | \u001b[38;5;208m///\u001b[0m \u001b[1mhttps://multiqc.info\u001b[0m 🔍 \u001b[2mv1.28\u001b[0m\n",
      "\u001b[34m            config\u001b[0m | Loading config settings from: /Users/vlad/.multiqc_config.yaml\n",
      "\u001b[34m           multiqc\u001b[0m | Strict mode specified. Will exit early if a module or a template crashed, and will give warnings if anything is not optimally configured in a module or a template.\n",
      "\u001b[34m       file_search\u001b[0m | Search path: /Users/vlad/Seqera/multiqc_heavy_examples/Petropoulus_2016/fastqc/ERX1120889_fastqc.zip\n",
      "\u001b[34m       file_search\u001b[0m | Search path: /Users/vlad/Seqera/multiqc_heavy_examples/Petropoulus_2016/fastqc/ERX1120886_fastqc.zip\n",
      "\u001b[34m       file_search\u001b[0m | Search path: /Users/vlad/Seqera/multiqc_heavy_examples/Petropoulus_2016/fastqc/ERX1120885_fastqc.zip\n",
      "\u001b[34m       file_search\u001b[0m | Search path: /Users/vlad/Seqera/multiqc_heavy_examples/Petropoulus_2016/fastqc/ERX1120888_fastqc.zip\n",
      "\u001b[34m       file_search\u001b[0m | Search path: /Users/vlad/Seqera/multiqc_heavy_examples/Petropoulus_2016/fastqc/ERX1120887_fastqc.zip\n"
     ]
    },
    {
     "name": "stdout",
     "output_type": "stream",
     "text": [
      "\u001b[34m        searching \u001b[0m| ████████████████████████████████████████ 100% 5/5                                                   .zip\u001b[0m"
     ]
    },
    {
     "name": "stderr",
     "output_type": "stream",
     "text": [
      "\u001b[34m            fastqc\u001b[0m | Found 5 reports\n",
      "\u001b[34m     write_results\u001b[0m | Data        : /Users/vlad/tmp/combine_tests/run1/multiqc_data   (overwritten)\n"
     ]
    },
    {
     "name": "stdout",
     "output_type": "stream",
     "text": [
      "\n"
     ]
    },
    {
     "name": "stderr",
     "output_type": "stream",
     "text": [
      "\u001b[34m     write_results\u001b[0m | Report      : /Users/vlad/tmp/combine_tests/run1/multiqc_report.html   (overwritten)\n",
      "\u001b[34m           multiqc\u001b[0m | MultiQC complete\n",
      "\u001b[34m           multiqc\u001b[0m | \u001b[38;5;208m///\u001b[0m \u001b[1mhttps://multiqc.info\u001b[0m 🔍 \u001b[2mv1.28\u001b[0m\n",
      "\u001b[34m            config\u001b[0m | Loading config settings from: /Users/vlad/.multiqc_config.yaml\n",
      "\u001b[34m           multiqc\u001b[0m | Strict mode specified. Will exit early if a module or a template crashed, and will give warnings if anything is not optimally configured in a module or a template.\n",
      "\u001b[34m       file_search\u001b[0m | Search path: /Users/vlad/Seqera/multiqc_heavy_examples/Petropoulus_2016/fastqc/ERX1120898_fastqc.zip\n",
      "\u001b[34m       file_search\u001b[0m | Search path: /Users/vlad/Seqera/multiqc_heavy_examples/Petropoulus_2016/fastqc/ERX1120895_fastqc.zip\n",
      "\u001b[34m       file_search\u001b[0m | Search path: /Users/vlad/Seqera/multiqc_heavy_examples/Petropoulus_2016/fastqc/ERX1120890_fastqc.zip\n",
      "\u001b[34m       file_search\u001b[0m | Search path: /Users/vlad/Seqera/multiqc_heavy_examples/Petropoulus_2016/fastqc/ERX1120897_fastqc.zip\n",
      "\u001b[34m       file_search\u001b[0m | Search path: /Users/vlad/Seqera/multiqc_heavy_examples/Petropoulus_2016/fastqc/ERX1120892_fastqc.zip\n",
      "\u001b[34m       file_search\u001b[0m | Search path: /Users/vlad/Seqera/multiqc_heavy_examples/Petropoulus_2016/fastqc/ERX1120891_fastqc.zip\n",
      "\u001b[34m       file_search\u001b[0m | Search path: /Users/vlad/Seqera/multiqc_heavy_examples/Petropoulus_2016/fastqc/ERX1120899_fastqc.zip\n",
      "\u001b[34m       file_search\u001b[0m | Search path: /Users/vlad/Seqera/multiqc_heavy_examples/Petropoulus_2016/fastqc/ERX1120894_fastqc.zip\n",
      "\u001b[34m       file_search\u001b[0m | Search path: /Users/vlad/Seqera/multiqc_heavy_examples/Petropoulus_2016/fastqc/ERX1120893_fastqc.zip\n",
      "\u001b[34m       file_search\u001b[0m | Search path: /Users/vlad/Seqera/multiqc_heavy_examples/Petropoulus_2016/fastqc/ERX1120896_fastqc.zip\n"
     ]
    },
    {
     "name": "stdout",
     "output_type": "stream",
     "text": [
      "\u001b[34m        searching \u001b[0m| ████████████████████████████████████████ 100% 10/10                                                   .zip\u001b[0m"
     ]
    },
    {
     "name": "stderr",
     "output_type": "stream",
     "text": [
      "\u001b[34m            fastqc\u001b[0m | Found 10 reports\n"
     ]
    },
    {
     "name": "stdout",
     "output_type": "stream",
     "text": [
      "\n"
     ]
    },
    {
     "name": "stderr",
     "output_type": "stream",
     "text": [
      "\u001b[34m     write_results\u001b[0m | Data        : /Users/vlad/tmp/combine_tests/run2/multiqc_data\n",
      "\u001b[34m     write_results\u001b[0m | Report      : /Users/vlad/tmp/combine_tests/run2/multiqc_report.html\n",
      "\u001b[34m           multiqc\u001b[0m | MultiQC complete\n",
      "\u001b[34m           multiqc\u001b[0m | \u001b[38;5;208m///\u001b[0m \u001b[1mhttps://multiqc.info\u001b[0m 🔍 \u001b[2mv1.28\u001b[0m\n",
      "\u001b[34m            config\u001b[0m | Loading config settings from: /Users/vlad/.multiqc_config.yaml\n",
      "\u001b[34m           multiqc\u001b[0m | Strict mode specified. Will exit early if a module or a template crashed, and will give warnings if anything is not optimally configured in a module or a template.\n",
      "\u001b[34m       file_search\u001b[0m | Search path: /Users/vlad/Seqera/multiqc_heavy_examples/Petropoulus_2016/fastqc/ERX1120900_fastqc.zip\n",
      "\u001b[34m       file_search\u001b[0m | Search path: /Users/vlad/Seqera/multiqc_heavy_examples/Petropoulus_2016/fastqc/ERX1120905_fastqc.zip\n",
      "\u001b[34m       file_search\u001b[0m | Search path: /Users/vlad/Seqera/multiqc_heavy_examples/Petropoulus_2016/fastqc/ERX1120908_fastqc.zip\n",
      "\u001b[34m       file_search\u001b[0m | Search path: /Users/vlad/Seqera/multiqc_heavy_examples/Petropoulus_2016/fastqc/ERX1120902_fastqc.zip\n",
      "\u001b[34m       file_search\u001b[0m | Search path: /Users/vlad/Seqera/multiqc_heavy_examples/Petropoulus_2016/fastqc/ERX1120907_fastqc.zip\n",
      "\u001b[34m       file_search\u001b[0m | Search path: /Users/vlad/Seqera/multiqc_heavy_examples/Petropoulus_2016/fastqc/ERX1120904_fastqc.zip\n",
      "\u001b[34m       file_search\u001b[0m | Search path: /Users/vlad/Seqera/multiqc_heavy_examples/Petropoulus_2016/fastqc/ERX1120909_fastqc.zip\n",
      "\u001b[34m       file_search\u001b[0m | Search path: /Users/vlad/Seqera/multiqc_heavy_examples/Petropoulus_2016/fastqc/ERX1120901_fastqc.zip\n",
      "\u001b[34m       file_search\u001b[0m | Search path: /Users/vlad/Seqera/multiqc_heavy_examples/Petropoulus_2016/fastqc/ERX1120906_fastqc.zip\n",
      "\u001b[34m       file_search\u001b[0m | Search path: /Users/vlad/Seqera/multiqc_heavy_examples/Petropoulus_2016/fastqc/ERX1120903_fastqc.zip\n"
     ]
    },
    {
     "name": "stdout",
     "output_type": "stream",
     "text": [
      "\u001b[34m        searching \u001b[0m| ████████████████████████████████████████ 100% 10/10                                                   .zip\u001b[0m"
     ]
    },
    {
     "name": "stderr",
     "output_type": "stream",
     "text": [
      "\u001b[34m            fastqc\u001b[0m | Found 10 reports\n",
      "\u001b[34m     write_results\u001b[0m | Data        : /Users/vlad/tmp/combine_tests/run3/multiqc_data\n"
     ]
    },
    {
     "name": "stdout",
     "output_type": "stream",
     "text": [
      "\n"
     ]
    },
    {
     "name": "stderr",
     "output_type": "stream",
     "text": [
      "\u001b[34m     write_results\u001b[0m | Report      : /Users/vlad/tmp/combine_tests/run3/multiqc_report.html\n",
      "\u001b[34m           multiqc\u001b[0m | MultiQC complete\n",
      "\u001b[34m           multiqc\u001b[0m | \u001b[38;5;208m///\u001b[0m \u001b[1mhttps://multiqc.info\u001b[0m 🔍 \u001b[2mv1.28\u001b[0m\n",
      "\u001b[34m            config\u001b[0m | Loading config settings from: /Users/vlad/.multiqc_config.yaml\n",
      "\u001b[34m           multiqc\u001b[0m | Strict mode specified. Will exit early if a module or a template crashed, and will give warnings if anything is not optimally configured in a module or a template.\n",
      "\u001b[34m       file_search\u001b[0m | Search path: /Users/vlad/Seqera/multiqc_heavy_examples/Petropoulus_2016/fastqc/ERX1120911_fastqc.zip\n",
      "\u001b[34m       file_search\u001b[0m | Search path: /Users/vlad/Seqera/multiqc_heavy_examples/Petropoulus_2016/fastqc/ERX1120919_fastqc.zip\n",
      "\u001b[34m       file_search\u001b[0m | Search path: /Users/vlad/Seqera/multiqc_heavy_examples/Petropoulus_2016/fastqc/ERX1120914_fastqc.zip\n",
      "\u001b[34m       file_search\u001b[0m | Search path: /Users/vlad/Seqera/multiqc_heavy_examples/Petropoulus_2016/fastqc/ERX1120913_fastqc.zip\n",
      "\u001b[34m       file_search\u001b[0m | Search path: /Users/vlad/Seqera/multiqc_heavy_examples/Petropoulus_2016/fastqc/ERX1120916_fastqc.zip\n",
      "\u001b[34m       file_search\u001b[0m | Search path: /Users/vlad/Seqera/multiqc_heavy_examples/Petropoulus_2016/fastqc/ERX1120918_fastqc.zip\n",
      "\u001b[34m       file_search\u001b[0m | Search path: /Users/vlad/Seqera/multiqc_heavy_examples/Petropoulus_2016/fastqc/ERX1120915_fastqc.zip\n",
      "\u001b[34m       file_search\u001b[0m | Search path: /Users/vlad/Seqera/multiqc_heavy_examples/Petropoulus_2016/fastqc/ERX1120910_fastqc.zip\n",
      "\u001b[34m       file_search\u001b[0m | Search path: /Users/vlad/Seqera/multiqc_heavy_examples/Petropoulus_2016/fastqc/ERX1120917_fastqc.zip\n",
      "\u001b[34m       file_search\u001b[0m | Search path: /Users/vlad/Seqera/multiqc_heavy_examples/Petropoulus_2016/fastqc/ERX1120912_fastqc.zip\n"
     ]
    },
    {
     "name": "stdout",
     "output_type": "stream",
     "text": [
      "\u001b[34m        searching \u001b[0m| ████████████████████████████████████████ 100% 10/10                                                   .zip\u001b[0m"
     ]
    },
    {
     "name": "stderr",
     "output_type": "stream",
     "text": [
      "\u001b[34m            fastqc\u001b[0m | Found 10 reports\n"
     ]
    },
    {
     "name": "stdout",
     "output_type": "stream",
     "text": [
      "\n"
     ]
    },
    {
     "name": "stderr",
     "output_type": "stream",
     "text": [
      "\u001b[34m     write_results\u001b[0m | Data        : /Users/vlad/tmp/combine_tests/run4/multiqc_data\n",
      "\u001b[34m     write_results\u001b[0m | Report      : /Users/vlad/tmp/combine_tests/run4/multiqc_report.html\n",
      "\u001b[34m           multiqc\u001b[0m | MultiQC complete\n",
      "\u001b[34m           multiqc\u001b[0m | \u001b[38;5;208m///\u001b[0m \u001b[1mhttps://multiqc.info\u001b[0m 🔍 \u001b[2mv1.28\u001b[0m\n",
      "\u001b[34m            config\u001b[0m | Loading config settings from: /Users/vlad/.multiqc_config.yaml\n",
      "\u001b[34m           multiqc\u001b[0m | Strict mode specified. Will exit early if a module or a template crashed, and will give warnings if anything is not optimally configured in a module or a template.\n",
      "\u001b[34m       file_search\u001b[0m | Search path: /Users/vlad/Seqera/multiqc_heavy_examples/Petropoulus_2016/fastqc/ERX1120926_fastqc.zip\n",
      "\u001b[34m       file_search\u001b[0m | Search path: /Users/vlad/Seqera/multiqc_heavy_examples/Petropoulus_2016/fastqc/ERX1120923_fastqc.zip\n",
      "\u001b[34m       file_search\u001b[0m | Search path: /Users/vlad/Seqera/multiqc_heavy_examples/Petropoulus_2016/fastqc/ERX1120924_fastqc.zip\n",
      "\u001b[34m       file_search\u001b[0m | Search path: /Users/vlad/Seqera/multiqc_heavy_examples/Petropoulus_2016/fastqc/ERX1120929_fastqc.zip\n",
      "\u001b[34m       file_search\u001b[0m | Search path: /Users/vlad/Seqera/multiqc_heavy_examples/Petropoulus_2016/fastqc/ERX1120921_fastqc.zip\n",
      "\u001b[34m       file_search\u001b[0m | Search path: /Users/vlad/Seqera/multiqc_heavy_examples/Petropoulus_2016/fastqc/ERX1120922_fastqc.zip\n",
      "\u001b[34m       file_search\u001b[0m | Search path: /Users/vlad/Seqera/multiqc_heavy_examples/Petropoulus_2016/fastqc/ERX1120927_fastqc.zip\n",
      "\u001b[34m       file_search\u001b[0m | Search path: /Users/vlad/Seqera/multiqc_heavy_examples/Petropoulus_2016/fastqc/ERX1120920_fastqc.zip\n",
      "\u001b[34m       file_search\u001b[0m | Search path: /Users/vlad/Seqera/multiqc_heavy_examples/Petropoulus_2016/fastqc/ERX1120925_fastqc.zip\n",
      "\u001b[34m       file_search\u001b[0m | Search path: /Users/vlad/Seqera/multiqc_heavy_examples/Petropoulus_2016/fastqc/ERX1120928_fastqc.zip\n"
     ]
    },
    {
     "name": "stdout",
     "output_type": "stream",
     "text": [
      "\u001b[34m        searching \u001b[0m| ████████████████████████████████████████ 100% 10/10                                                   .zip\u001b[0m"
     ]
    },
    {
     "name": "stderr",
     "output_type": "stream",
     "text": [
      "\u001b[34m            fastqc\u001b[0m | Found 10 reports\n"
     ]
    },
    {
     "name": "stdout",
     "output_type": "stream",
     "text": [
      "\n"
     ]
    },
    {
     "name": "stderr",
     "output_type": "stream",
     "text": [
      "\u001b[34m     write_results\u001b[0m | Data        : /Users/vlad/tmp/combine_tests/run5/multiqc_data\n",
      "\u001b[34m     write_results\u001b[0m | Report      : /Users/vlad/tmp/combine_tests/run5/multiqc_report.html\n",
      "\u001b[34m           multiqc\u001b[0m | MultiQC complete\n"
     ]
    }
   ],
   "source": [
    "import multiqc\n",
    "from multiqc import ClConfig\n",
    "\n",
    "for i, path in enumerate([\n",
    "    \"/Users/vlad/Seqera/multiqc_heavy_examples/Petropoulus_2016/fastqc/ERX112088*\",\n",
    "    \"/Users/vlad/Seqera/multiqc_heavy_examples/Petropoulus_2016/fastqc/ERX112089*\",\n",
    "    \"/Users/vlad/Seqera/multiqc_heavy_examples/Petropoulus_2016/fastqc/ERX112090*\",\n",
    "    \"/Users/vlad/Seqera/multiqc_heavy_examples/Petropoulus_2016/fastqc/ERX112091*\",\n",
    "    \"/Users/vlad/Seqera/multiqc_heavy_examples/Petropoulus_2016/fastqc/ERX112092*\",\n",
    "]):\n",
    "    multiqc.run(\n",
    "        path,\n",
    "        cfg=ClConfig(\n",
    "            output_dir=f\"/Users/vlad/tmp/combine_tests/run{i + 1}\",\n",
    "            force=True,\n",
    "            strict=True,\n",
    "        )\n",
    "    )"
   ]
  },
  {
   "cell_type": "code",
   "execution_count": 6,
   "metadata": {},
   "outputs": [
    {
     "name": "stdout",
     "output_type": "stream",
     "text": [
      "/Users/vlad/tmp/combine_tests/run1/multiqc_data/multiqc.parquet\n",
      "/Users/vlad/tmp/combine_tests/run2/multiqc_data/multiqc.parquet\n",
      "/Users/vlad/tmp/combine_tests/run3/multiqc_data/multiqc.parquet\n",
      "/Users/vlad/tmp/combine_tests/run4/multiqc_data/multiqc.parquet\n",
      "/Users/vlad/tmp/combine_tests/run5/multiqc_data/multiqc.parquet\n"
     ]
    }
   ],
   "source": [
    "%ls /Users/vlad/tmp/combine_tests/run*/multiqc_data/*.parquet"
   ]
  },
  {
   "cell_type": "markdown",
   "metadata": {},
   "source": [
    "We can run MultiQC on the outputs of those runs even without the access to the original data:"
   ]
  },
  {
   "cell_type": "code",
   "execution_count": 8,
   "metadata": {},
   "outputs": [
    {
     "name": "stderr",
     "output_type": "stream",
     "text": [
      "\u001b[34m           multiqc\u001b[0m | \u001b[38;5;208m///\u001b[0m \u001b[1mhttps://multiqc.info\u001b[0m 🔍 \u001b[2mv1.28\u001b[0m\n",
      "\u001b[34m            config\u001b[0m | Loading config settings from: /Users/vlad/.multiqc_config.yaml\n",
      "\u001b[34m       file_search\u001b[0m | Search path: /Users/vlad/tmp/combine_tests/run1/multiqc_data/multiqc.parquet\n",
      "\u001b[34m       file_search\u001b[0m | Search path: /Users/vlad/tmp/combine_tests/run2/multiqc_data/multiqc.parquet\n"
     ]
    },
    {
     "name": "stdout",
     "output_type": "stream",
     "text": [
      "\u001b[34m        searching \u001b[0m| ████████████████████████████████████████ 100% 2/2                                                   quet\u001b[0m"
     ]
    },
    {
     "name": "stderr",
     "output_type": "stream",
     "text": [
      "\u001b[34m load_multiqc_data\u001b[0m | Loading report data from parquet file: /Users/vlad/tmp/combine_tests/run1/multiqc_data/multiqc.parquet\n",
      "\u001b[34m load_multiqc_data\u001b[0m | Loading module FastQC from parquet\n",
      "\u001b[34m load_multiqc_data\u001b[0m | Loading module Software Versions from parquet\n",
      "\u001b[34m load_multiqc_data\u001b[0m | Loading report data from parquet file: /Users/vlad/tmp/combine_tests/run2/multiqc_data/multiqc.parquet\n",
      "\u001b[34m load_multiqc_data\u001b[0m | Loading module FastQC from parquet\n",
      "\u001b[34m load_multiqc_data\u001b[0m | Loading module Software Versions from parquet\n",
      "\u001b[34m     write_results\u001b[0m | Data        : /Users/vlad/tmp/combine_tests/run1plus2/multiqc_data\n"
     ]
    },
    {
     "name": "stdout",
     "output_type": "stream",
     "text": [
      "\n"
     ]
    },
    {
     "name": "stderr",
     "output_type": "stream",
     "text": [
      "\u001b[34m     write_results\u001b[0m | Report      : /Users/vlad/tmp/combine_tests/run1plus2/multiqc_report.html\n",
      "\u001b[34m           multiqc\u001b[0m | MultiQC complete\n"
     ]
    },
    {
     "data": {
      "text/plain": [
       "<multiqc.multiqc.RunResult at 0x10b832c60>"
      ]
     },
     "execution_count": 8,
     "metadata": {},
     "output_type": "execute_result"
    }
   ],
   "source": [
    "multiqc.run(\n",
    "    \"/Users/vlad/tmp/combine_tests/run1/multiqc_data/multiqc.parquet\",\n",
    "    \"/Users/vlad/tmp/combine_tests/run2/multiqc_data/multiqc.parquet\",\n",
    "    cfg=ClConfig(\n",
    "        output_dir=\"/Users/vlad/tmp/combine_tests/run1plus2\",\n",
    "        force=True,\n",
    "    )\n",
    ")"
   ]
  },
  {
   "cell_type": "markdown",
   "metadata": {},
   "source": [
    "However, a more interesting usecase is to make use of the columnar nature of the parquet file format to e.g. explore metric trends over time. We would use duckdb to query parquet. They can be as well located e.g. as form of a data lake on an s3 bucket."
   ]
  },
  {
   "cell_type": "code",
   "execution_count": 15,
   "metadata": {},
   "outputs": [
    {
     "name": "stdout",
     "output_type": "stream",
     "text": [
      "                           timestamp sample_name  total_sequences\n",
      "0   2025-04-15T10:51:15.835470+02:00  ERX1120886        2286825.0\n",
      "1   2025-04-15T10:51:15.835470+02:00  ERX1120889        2383241.0\n",
      "2   2025-04-15T10:51:15.835470+02:00  ERX1120888        4886841.0\n",
      "3   2025-04-15T10:51:15.835470+02:00  ERX1120885        4941064.0\n",
      "4   2025-04-15T10:51:15.835470+02:00  ERX1120887        5453345.0\n",
      "5   2025-04-15T10:51:16.311288+02:00  ERX1120890        3857107.0\n",
      "6   2025-04-15T10:51:16.311288+02:00  ERX1120891        4788791.0\n",
      "7   2025-04-15T10:51:16.311288+02:00  ERX1120896        5547967.0\n",
      "8   2025-04-15T10:51:16.311288+02:00  ERX1120894        6603904.0\n",
      "9   2025-04-15T10:51:16.311288+02:00  ERX1120899        6849883.0\n",
      "10  2025-04-15T10:51:16.311288+02:00  ERX1120898        7907728.0\n",
      "11  2025-04-15T10:51:16.311288+02:00  ERX1120897        8527930.0\n",
      "12  2025-04-15T10:51:16.311288+02:00  ERX1120895        8948672.0\n",
      "13  2025-04-15T10:51:16.311288+02:00  ERX1120892        9414506.0\n",
      "14  2025-04-15T10:51:16.311288+02:00  ERX1120893       12015105.0\n",
      "15  2025-04-15T10:51:16.833719+02:00  ERX1120901        4839189.0\n",
      "16  2025-04-15T10:51:16.833719+02:00  ERX1120900        5558624.0\n",
      "17  2025-04-15T10:51:16.833719+02:00  ERX1120904        7543991.0\n",
      "18  2025-04-15T10:51:16.833719+02:00  ERX1120905        7742674.0\n",
      "19  2025-04-15T10:51:16.833719+02:00  ERX1120909        8174409.0\n",
      "20  2025-04-15T10:51:16.833719+02:00  ERX1120908        8340607.0\n",
      "21  2025-04-15T10:51:16.833719+02:00  ERX1120907        8577851.0\n",
      "22  2025-04-15T10:51:16.833719+02:00  ERX1120903        9573539.0\n",
      "23  2025-04-15T10:51:16.833719+02:00  ERX1120902       13177847.0\n",
      "24  2025-04-15T10:51:16.833719+02:00  ERX1120906       19285247.0\n",
      "25  2025-04-15T10:51:17.291591+02:00  ERX1120915         822379.0\n",
      "26  2025-04-15T10:51:17.291591+02:00  ERX1120918        1319585.0\n",
      "27  2025-04-15T10:51:17.291591+02:00  ERX1120916        1442659.0\n",
      "28  2025-04-15T10:51:17.291591+02:00  ERX1120919        1618772.0\n",
      "29  2025-04-15T10:51:17.291591+02:00  ERX1120913        2899898.0\n",
      "30  2025-04-15T10:51:17.291591+02:00  ERX1120914        3348874.0\n",
      "31  2025-04-15T10:51:17.291591+02:00  ERX1120917        3894233.0\n",
      "32  2025-04-15T10:51:17.291591+02:00  ERX1120912        4601638.0\n",
      "33  2025-04-15T10:51:17.291591+02:00  ERX1120911        5206414.0\n",
      "34  2025-04-15T10:51:17.291591+02:00  ERX1120910        6617446.0\n",
      "35  2025-04-15T10:51:17.776188+02:00  ERX1120920         187328.0\n",
      "36  2025-04-15T10:51:17.776188+02:00  ERX1120922        1746222.0\n",
      "37  2025-04-15T10:51:17.776188+02:00  ERX1120921        1927633.0\n",
      "38  2025-04-15T10:51:17.776188+02:00  ERX1120924        5365378.0\n",
      "39  2025-04-15T10:51:17.776188+02:00  ERX1120926        7823539.0\n",
      "40  2025-04-15T10:51:17.776188+02:00  ERX1120928        7971349.0\n",
      "41  2025-04-15T10:51:17.776188+02:00  ERX1120927        7984227.0\n",
      "42  2025-04-15T10:51:17.776188+02:00  ERX1120925        8141095.0\n",
      "43  2025-04-15T10:51:17.776188+02:00  ERX1120923        9889335.0\n",
      "44  2025-04-15T10:51:17.776188+02:00  ERX1120929       15477680.0\n"
     ]
    }
   ],
   "source": [
    "import pandas as pd\n",
    "import duckdb\n",
    "\n",
    "con = duckdb.connect()\n",
    "df = con.execute(\"\"\"\n",
    "    SELECT \n",
    "        sample_name, \n",
    "        val_raw as total_sequences,\n",
    "        timestamp\n",
    "    FROM '/Users/vlad/tmp/combine_tests/run[1-5]/multiqc_data/multiqc.parquet'\n",
    "    WHERE metric_name = 'total_sequences'\n",
    "    ORDER BY timestamp, val_raw\n",
    "\"\"\").df()\n",
    "\n",
    "print(df[['timestamp', 'sample_name', 'total_sequences']])"
   ]
  },
  {
   "cell_type": "markdown",
   "metadata": {},
   "source": [
    "Let's start with a histogram of total sequences"
   ]
  },
  {
   "cell_type": "code",
   "execution_count": 16,
   "metadata": {},
   "outputs": [
    {
     "data": {
      "image/png": "[encoded data removed]"
     },
     "metadata": {},
     "output_type": "display_data"
    }
   ],
   "source": [
    "import plotly.graph_objs as go\n",
    "\n",
    "data = [\n",
    "    go.Histogram(\n",
    "        x=df[\"total_sequences\"],\n",
    "        name=\"Total Sequences\",\n",
    "        nbinsx=10,\n",
    "    )\n",
    "]\n",
    "\n",
    "layout = {\n",
    "    \"title\": \"Distribution of Total Sequences\",\n",
    "    \"xaxis\": {\"title\": \"Total Sequences\"},\n",
    "    \"yaxis\": {\"title\": \"Count\"}\n",
    "}\n",
    "\n",
    "go.Figure(data=data, layout=layout).show(renderer=\"png\")"
   ]
  },
  {
   "cell_type": "markdown",
   "metadata": {},
   "source": [
    "Now let's plot a timeline"
   ]
  },
  {
   "cell_type": "code",
   "execution_count": 17,
   "metadata": {},
   "outputs": [
    {
     "data": {
      "image/png": "[encoded data removed]"
     },
     "metadata": {},
     "output_type": "display_data"
    }
   ],
   "source": [
    "# Ensure timestamps are in datetime format\n",
    "df[\"timestamp\"] = pd.to_datetime(df[\"timestamp\"])\n",
    "\n",
    "# Sort by timestamp\n",
    "df = df.sort_values(\"timestamp\")\n",
    "\n",
    "data = [\n",
    "    go.Scatter(\n",
    "        x=df[\"timestamp\"],\n",
    "        y=df[\"total_sequences\"],\n",
    "        mode=\"markers\",\n",
    "        name=\"Total Sequences\",\n",
    "        marker=dict(\n",
    "            size=10,\n",
    "            opacity=0.7\n",
    "        )\n",
    "    )\n",
    "]\n",
    "\n",
    "layout = {\n",
    "    \"title\": \"Total Sequences Timeline\",\n",
    "    \"xaxis\": {\"title\": \"Timestamp\"},\n",
    "    \"yaxis\": {\"title\": \"Total Sequences\"},\n",
    "    \"hovermode\": \"closest\"\n",
    "}\n",
    "\n",
    "go.Figure(data=data, layout=layout).show(renderer=\"png\")"
   ]
  },
  {
   "cell_type": "code",
   "execution_count": 38,
   "metadata": {},
   "outputs": [
    {
     "data": {
      "text/html": [
       "<div>\n",
       "<style scoped>\n",
       "    .dataframe tbody tr th:only-of-type {\n",
       "        vertical-align: middle;\n",
       "    }\n",
       "\n",
       "    .dataframe tbody tr th {\n",
       "        vertical-align: top;\n",
       "    }\n",
       "\n",
       "    .dataframe thead th {\n",
       "        text-align: right;\n",
       "    }\n",
       "</style>\n",
       "<table border=\"1\" class=\"dataframe\">\n",
       "  <thead>\n",
       "    <tr style=\"text-align: right;\">\n",
       "      <th></th>\n",
       "      <th>anchor</th>\n",
       "      <th>dataset_idx</th>\n",
       "      <th>dataset_label</th>\n",
       "      <th>sample_name</th>\n",
       "      <th>category_name</th>\n",
       "      <th>bar_value</th>\n",
       "      <th>cat_meta</th>\n",
       "      <th>plot_title</th>\n",
       "      <th>y_label</th>\n",
       "      <th>plot_type</th>\n",
       "      <th>...</th>\n",
       "      <th>val_fmt</th>\n",
       "      <th>column_meta</th>\n",
       "      <th>show_table_by_default</th>\n",
       "      <th>type</th>\n",
       "      <th>modules</th>\n",
       "      <th>data_sources</th>\n",
       "      <th>creation_date</th>\n",
       "      <th>config</th>\n",
       "      <th>plot_data</th>\n",
       "      <th>multiqc_version</th>\n",
       "    </tr>\n",
       "  </thead>\n",
       "  <tbody>\n",
       "    <tr>\n",
       "      <th>0</th>\n",
       "      <td>fastp_filtered_reads_plot</td>\n",
       "      <td>0.0</td>\n",
       "      <td>Dataset 1</td>\n",
       "      <td>smalltest_S10_R1_001</td>\n",
       "      <td>filtering_result_passed_filter_reads</td>\n",
       "      <td>16034314.0</td>\n",
       "      <td>{\"name\":\"Passed Filter\",\"color\":null}</td>\n",
       "      <td>Fastp: Filtered Reads</td>\n",
       "      <td># Reads</td>\n",
       "      <td>bar plot</td>\n",
       "      <td>...</td>\n",
       "      <td>None</td>\n",
       "      <td>None</td>\n",
       "      <td>None</td>\n",
       "      <td>None</td>\n",
       "      <td>None</td>\n",
       "      <td>None</td>\n",
       "      <td>None</td>\n",
       "      <td>None</td>\n",
       "      <td>None</td>\n",
       "      <td>None</td>\n",
       "    </tr>\n",
       "    <tr>\n",
       "      <th>1</th>\n",
       "      <td>fastp_filtered_reads_plot</td>\n",
       "      <td>0.0</td>\n",
       "      <td>Dataset 1</td>\n",
       "      <td>smalltest_S10_R1_001</td>\n",
       "      <td>filtering_result_low_quality_reads</td>\n",
       "      <td>695022.0</td>\n",
       "      <td>{\"name\":\"Low Quality\",\"color\":null}</td>\n",
       "      <td>Fastp: Filtered Reads</td>\n",
       "      <td># Reads</td>\n",
       "      <td>bar plot</td>\n",
       "      <td>...</td>\n",
       "      <td>None</td>\n",
       "      <td>None</td>\n",
       "      <td>None</td>\n",
       "      <td>None</td>\n",
       "      <td>None</td>\n",
       "      <td>None</td>\n",
       "      <td>None</td>\n",
       "      <td>None</td>\n",
       "      <td>None</td>\n",
       "      <td>None</td>\n",
       "    </tr>\n",
       "    <tr>\n",
       "      <th>2</th>\n",
       "      <td>fastp_filtered_reads_plot</td>\n",
       "      <td>0.0</td>\n",
       "      <td>Dataset 1</td>\n",
       "      <td>smalltest_S10_R1_001</td>\n",
       "      <td>filtering_result_too_many_N_reads</td>\n",
       "      <td>14740.0</td>\n",
       "      <td>{\"name\":\"Too Many N\",\"color\":null}</td>\n",
       "      <td>Fastp: Filtered Reads</td>\n",
       "      <td># Reads</td>\n",
       "      <td>bar plot</td>\n",
       "      <td>...</td>\n",
       "      <td>None</td>\n",
       "      <td>None</td>\n",
       "      <td>None</td>\n",
       "      <td>None</td>\n",
       "      <td>None</td>\n",
       "      <td>None</td>\n",
       "      <td>None</td>\n",
       "      <td>None</td>\n",
       "      <td>None</td>\n",
       "      <td>None</td>\n",
       "    </tr>\n",
       "    <tr>\n",
       "      <th>3</th>\n",
       "      <td>fastp_filtered_reads_plot</td>\n",
       "      <td>0.0</td>\n",
       "      <td>Dataset 1</td>\n",
       "      <td>smalltest_S10_R1_001</td>\n",
       "      <td>filtering_result_low_complexity_reads</td>\n",
       "      <td>NaN</td>\n",
       "      <td>{\"name\":\"Low Complexity\",\"color\":null}</td>\n",
       "      <td>Fastp: Filtered Reads</td>\n",
       "      <td># Reads</td>\n",
       "      <td>bar plot</td>\n",
       "      <td>...</td>\n",
       "      <td>None</td>\n",
       "      <td>None</td>\n",
       "      <td>None</td>\n",
       "      <td>None</td>\n",
       "      <td>None</td>\n",
       "      <td>None</td>\n",
       "      <td>None</td>\n",
       "      <td>None</td>\n",
       "      <td>None</td>\n",
       "      <td>None</td>\n",
       "    </tr>\n",
       "    <tr>\n",
       "      <th>4</th>\n",
       "      <td>fastp_filtered_reads_plot</td>\n",
       "      <td>0.0</td>\n",
       "      <td>Dataset 1</td>\n",
       "      <td>smalltest_S10_R1_001</td>\n",
       "      <td>filtering_result_too_short_reads</td>\n",
       "      <td>19868.0</td>\n",
       "      <td>{\"name\":\"Too Short\",\"color\":null}</td>\n",
       "      <td>Fastp: Filtered Reads</td>\n",
       "      <td># Reads</td>\n",
       "      <td>bar plot</td>\n",
       "      <td>...</td>\n",
       "      <td>None</td>\n",
       "      <td>None</td>\n",
       "      <td>None</td>\n",
       "      <td>None</td>\n",
       "      <td>None</td>\n",
       "      <td>None</td>\n",
       "      <td>None</td>\n",
       "      <td>None</td>\n",
       "      <td>None</td>\n",
       "      <td>None</td>\n",
       "    </tr>\n",
       "    <tr>\n",
       "      <th>...</th>\n",
       "      <td>...</td>\n",
       "      <td>...</td>\n",
       "      <td>...</td>\n",
       "      <td>...</td>\n",
       "      <td>...</td>\n",
       "      <td>...</td>\n",
       "      <td>...</td>\n",
       "      <td>...</td>\n",
       "      <td>...</td>\n",
       "      <td>...</td>\n",
       "      <td>...</td>\n",
       "      <td>...</td>\n",
       "      <td>...</td>\n",
       "      <td>...</td>\n",
       "      <td>...</td>\n",
       "      <td>...</td>\n",
       "      <td>...</td>\n",
       "      <td>...</td>\n",
       "      <td>...</td>\n",
       "      <td>...</td>\n",
       "      <td>...</td>\n",
       "    </tr>\n",
       "    <tr>\n",
       "      <th>95</th>\n",
       "      <td>fastp-seq-quality-plot</td>\n",
       "      <td>0.0</td>\n",
       "      <td>Read 1: Before filtering</td>\n",
       "      <td>smalltest_S10_R1_001</td>\n",
       "      <td>None</td>\n",
       "      <td>NaN</td>\n",
       "      <td>None</td>\n",
       "      <td>None</td>\n",
       "      <td>None</td>\n",
       "      <td>x/y line</td>\n",
       "      <td>...</td>\n",
       "      <td>None</td>\n",
       "      <td>None</td>\n",
       "      <td>None</td>\n",
       "      <td>None</td>\n",
       "      <td>None</td>\n",
       "      <td>None</td>\n",
       "      <td>None</td>\n",
       "      <td>None</td>\n",
       "      <td>None</td>\n",
       "      <td>None</td>\n",
       "    </tr>\n",
       "    <tr>\n",
       "      <th>96</th>\n",
       "      <td>fastp-seq-quality-plot</td>\n",
       "      <td>0.0</td>\n",
       "      <td>Read 1: Before filtering</td>\n",
       "      <td>smalltest_S10_R1_001</td>\n",
       "      <td>None</td>\n",
       "      <td>NaN</td>\n",
       "      <td>None</td>\n",
       "      <td>None</td>\n",
       "      <td>None</td>\n",
       "      <td>x/y line</td>\n",
       "      <td>...</td>\n",
       "      <td>None</td>\n",
       "      <td>None</td>\n",
       "      <td>None</td>\n",
       "      <td>None</td>\n",
       "      <td>None</td>\n",
       "      <td>None</td>\n",
       "      <td>None</td>\n",
       "      <td>None</td>\n",
       "      <td>None</td>\n",
       "      <td>None</td>\n",
       "    </tr>\n",
       "    <tr>\n",
       "      <th>97</th>\n",
       "      <td>fastp-seq-quality-plot</td>\n",
       "      <td>0.0</td>\n",
       "      <td>Read 1: Before filtering</td>\n",
       "      <td>smalltest_S10_R1_001</td>\n",
       "      <td>None</td>\n",
       "      <td>NaN</td>\n",
       "      <td>None</td>\n",
       "      <td>None</td>\n",
       "      <td>None</td>\n",
       "      <td>x/y line</td>\n",
       "      <td>...</td>\n",
       "      <td>None</td>\n",
       "      <td>None</td>\n",
       "      <td>None</td>\n",
       "      <td>None</td>\n",
       "      <td>None</td>\n",
       "      <td>None</td>\n",
       "      <td>None</td>\n",
       "      <td>None</td>\n",
       "      <td>None</td>\n",
       "      <td>None</td>\n",
       "    </tr>\n",
       "    <tr>\n",
       "      <th>98</th>\n",
       "      <td>fastp-seq-quality-plot</td>\n",
       "      <td>0.0</td>\n",
       "      <td>Read 1: Before filtering</td>\n",
       "      <td>smalltest_S10_R1_001</td>\n",
       "      <td>None</td>\n",
       "      <td>NaN</td>\n",
       "      <td>None</td>\n",
       "      <td>None</td>\n",
       "      <td>None</td>\n",
       "      <td>x/y line</td>\n",
       "      <td>...</td>\n",
       "      <td>None</td>\n",
       "      <td>None</td>\n",
       "      <td>None</td>\n",
       "      <td>None</td>\n",
       "      <td>None</td>\n",
       "      <td>None</td>\n",
       "      <td>None</td>\n",
       "      <td>None</td>\n",
       "      <td>None</td>\n",
       "      <td>None</td>\n",
       "    </tr>\n",
       "    <tr>\n",
       "      <th>99</th>\n",
       "      <td>fastp-seq-quality-plot</td>\n",
       "      <td>0.0</td>\n",
       "      <td>Read 1: Before filtering</td>\n",
       "      <td>smalltest_S10_R1_001</td>\n",
       "      <td>None</td>\n",
       "      <td>NaN</td>\n",
       "      <td>None</td>\n",
       "      <td>None</td>\n",
       "      <td>None</td>\n",
       "      <td>x/y line</td>\n",
       "      <td>...</td>\n",
       "      <td>None</td>\n",
       "      <td>None</td>\n",
       "      <td>None</td>\n",
       "      <td>None</td>\n",
       "      <td>None</td>\n",
       "      <td>None</td>\n",
       "      <td>None</td>\n",
       "      <td>None</td>\n",
       "      <td>None</td>\n",
       "      <td>None</td>\n",
       "    </tr>\n",
       "  </tbody>\n",
       "</table>\n",
       "<p>100 rows × 35 columns</p>\n",
       "</div>"
      ],
      "text/plain": [
       "                       anchor  dataset_idx             dataset_label  \\\n",
       "0   fastp_filtered_reads_plot          0.0                 Dataset 1   \n",
       "1   fastp_filtered_reads_plot          0.0                 Dataset 1   \n",
       "2   fastp_filtered_reads_plot          0.0                 Dataset 1   \n",
       "3   fastp_filtered_reads_plot          0.0                 Dataset 1   \n",
       "4   fastp_filtered_reads_plot          0.0                 Dataset 1   \n",
       "..                        ...          ...                       ...   \n",
       "95     fastp-seq-quality-plot          0.0  Read 1: Before filtering   \n",
       "96     fastp-seq-quality-plot          0.0  Read 1: Before filtering   \n",
       "97     fastp-seq-quality-plot          0.0  Read 1: Before filtering   \n",
       "98     fastp-seq-quality-plot          0.0  Read 1: Before filtering   \n",
       "99     fastp-seq-quality-plot          0.0  Read 1: Before filtering   \n",
       "\n",
       "             sample_name                          category_name   bar_value  \\\n",
       "0   smalltest_S10_R1_001   filtering_result_passed_filter_reads  16034314.0   \n",
       "1   smalltest_S10_R1_001     filtering_result_low_quality_reads    695022.0   \n",
       "2   smalltest_S10_R1_001      filtering_result_too_many_N_reads     14740.0   \n",
       "3   smalltest_S10_R1_001  filtering_result_low_complexity_reads         NaN   \n",
       "4   smalltest_S10_R1_001       filtering_result_too_short_reads     19868.0   \n",
       "..                   ...                                    ...         ...   \n",
       "95  smalltest_S10_R1_001                                   None         NaN   \n",
       "96  smalltest_S10_R1_001                                   None         NaN   \n",
       "97  smalltest_S10_R1_001                                   None         NaN   \n",
       "98  smalltest_S10_R1_001                                   None         NaN   \n",
       "99  smalltest_S10_R1_001                                   None         NaN   \n",
       "\n",
       "                                  cat_meta             plot_title  y_label  \\\n",
       "0    {\"name\":\"Passed Filter\",\"color\":null}  Fastp: Filtered Reads  # Reads   \n",
       "1      {\"name\":\"Low Quality\",\"color\":null}  Fastp: Filtered Reads  # Reads   \n",
       "2       {\"name\":\"Too Many N\",\"color\":null}  Fastp: Filtered Reads  # Reads   \n",
       "3   {\"name\":\"Low Complexity\",\"color\":null}  Fastp: Filtered Reads  # Reads   \n",
       "4        {\"name\":\"Too Short\",\"color\":null}  Fastp: Filtered Reads  # Reads   \n",
       "..                                     ...                    ...      ...   \n",
       "95                                    None                   None     None   \n",
       "96                                    None                   None     None   \n",
       "97                                    None                   None     None   \n",
       "98                                    None                   None     None   \n",
       "99                                    None                   None     None   \n",
       "\n",
       "   plot_type  ... val_fmt column_meta show_table_by_default  type modules  \\\n",
       "0   bar plot  ...    None        None                  None  None    None   \n",
       "1   bar plot  ...    None        None                  None  None    None   \n",
       "2   bar plot  ...    None        None                  None  None    None   \n",
       "3   bar plot  ...    None        None                  None  None    None   \n",
       "4   bar plot  ...    None        None                  None  None    None   \n",
       "..       ...  ...     ...         ...                   ...   ...     ...   \n",
       "95  x/y line  ...    None        None                  None  None    None   \n",
       "96  x/y line  ...    None        None                  None  None    None   \n",
       "97  x/y line  ...    None        None                  None  None    None   \n",
       "98  x/y line  ...    None        None                  None  None    None   \n",
       "99  x/y line  ...    None        None                  None  None    None   \n",
       "\n",
       "    data_sources creation_date config plot_data multiqc_version  \n",
       "0           None          None   None      None            None  \n",
       "1           None          None   None      None            None  \n",
       "2           None          None   None      None            None  \n",
       "3           None          None   None      None            None  \n",
       "4           None          None   None      None            None  \n",
       "..           ...           ...    ...       ...             ...  \n",
       "95          None          None   None      None            None  \n",
       "96          None          None   None      None            None  \n",
       "97          None          None   None      None            None  \n",
       "98          None          None   None      None            None  \n",
       "99          None          None   None      None            None  \n",
       "\n",
       "[100 rows x 35 columns]"
      ]
     },
     "execution_count": 38,
     "metadata": {},
     "output_type": "execute_result"
    }
   ],
   "source": [
    "import pandas as pd\n",
    "pf = '/Users/vlad/git/MultiQC/playground/runs/run_SAMPLE_multiqc_report_data/multiqc.parquet'\n",
    "# pf = '/var/folders/zn/9rrn2wv97lncdpqrp79p5rpm0000gn/T/tmpvtgczdba/multiqc_data/multiqc.parquet'\n",
    "df = pd.read_parquet(pf)\n",
    "df.head(100)\n"
   ]
  }
 ],
 "metadata": {
  "kernelspec": {
   "display_name": "venv312",
   "language": "python",
   "name": "python3"
  },
  "language_info": {
   "codemirror_mode": {
    "name": "ipython",
    "version": 3
   },
   "file_extension": ".py",
   "mimetype": "text/x-python",
   "name": "python",
   "nbconvert_exporter": "python",
   "pygments_lexer": "ipython3",
   "version": "3.12.7"
  }
 },
 "nbformat": 4,
 "nbformat_minor": 2
}
