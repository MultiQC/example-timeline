{
 "cells": [
  {
   "cell_type": "markdown",
   "metadata": {},
   "source": [
    "This demo shows how MulitQC intermediate format based on parquet can be used to explore data across multiple runs.\n",
    "\n",
    "First, let's run MultiQC a bunch of times."
   ]
  },
  {
   "cell_type": "code",
   "execution_count": 5,
   "metadata": {},
   "outputs": [
    {
     "name": "stderr",
     "output_type": "stream",
     "text": [
      "\u001b[34m           multiqc\u001b[0m | \u001b[38;5;208m///\u001b[0m \u001b[1mhttps://multiqc.info\u001b[0m 🔍 \u001b[2mv1.28\u001b[0m\n",
      "\u001b[34m            config\u001b[0m | Loading config settings from: /Users/vlad/.multiqc_config.yaml\n",
      "\u001b[34m       file_search\u001b[0m | Search path: /Users/vlad/git/example-timeline\n"
     ]
    },
    {
     "name": "stdout",
     "output_type": "stream",
     "text": [
      "\u001b[34m        searching \u001b[0m| ████████████████████████████████████████ 100% 2/2                                            nore\u001b[0m    "
     ]
    },
    {
     "name": "stderr",
     "output_type": "stream",
     "text": [
      "\u001b[34m           multiqc\u001b[0m | \u001b[33mNo analysis results found. Cleaning up…\u001b[0m\n",
      "\u001b[34m           multiqc\u001b[0m | \u001b[38;5;208m///\u001b[0m \u001b[1mhttps://multiqc.info\u001b[0m 🔍 \u001b[2mv1.28\u001b[0m\n",
      "\u001b[34m            config\u001b[0m | Loading config settings from: /Users/vlad/.multiqc_config.yaml\n",
      "\u001b[34m       file_search\u001b[0m | Search path: /Users/vlad/git/example-timeline\n"
     ]
    },
    {
     "name": "stdout",
     "output_type": "stream",
     "text": [
      "\n",
      "\u001b[34m        searching \u001b[0m| ████████████████████████████████████████ 100% 2/2                                            nore\u001b[0m    "
     ]
    },
    {
     "name": "stderr",
     "output_type": "stream",
     "text": [
      "\u001b[34m           multiqc\u001b[0m | \u001b[33mNo analysis results found. Cleaning up…\u001b[0m\n"
     ]
    },
    {
     "name": "stdout",
     "output_type": "stream",
     "text": [
      "\n"
     ]
    },
    {
     "name": "stderr",
     "output_type": "stream",
     "text": [
      "\u001b[34m           multiqc\u001b[0m | \u001b[38;5;208m///\u001b[0m \u001b[1mhttps://multiqc.info\u001b[0m 🔍 \u001b[2mv1.28\u001b[0m\n",
      "\u001b[34m            config\u001b[0m | Loading config settings from: /Users/vlad/.multiqc_config.yaml\n",
      "\u001b[34m       file_search\u001b[0m | Search path: /Users/vlad/git/example-timeline\n"
     ]
    },
    {
     "name": "stdout",
     "output_type": "stream",
     "text": [
      "\u001b[34m        searching \u001b[0m| ████████████████████████████████████████ 100% 2/2                                            nore\u001b[0m    "
     ]
    },
    {
     "name": "stderr",
     "output_type": "stream",
     "text": [
      "\u001b[34m           multiqc\u001b[0m | \u001b[33mNo analysis results found. Cleaning up…\u001b[0m\n"
     ]
    },
    {
     "name": "stdout",
     "output_type": "stream",
     "text": [
      "\n"
     ]
    },
    {
     "name": "stderr",
     "output_type": "stream",
     "text": [
      "\u001b[34m           multiqc\u001b[0m | \u001b[38;5;208m///\u001b[0m \u001b[1mhttps://multiqc.info\u001b[0m 🔍 \u001b[2mv1.28\u001b[0m\n",
      "\u001b[34m            config\u001b[0m | Loading config settings from: /Users/vlad/.multiqc_config.yaml\n",
      "\u001b[34m       file_search\u001b[0m | Search path: /Users/vlad/git/example-timeline\n"
     ]
    },
    {
     "name": "stdout",
     "output_type": "stream",
     "text": [
      "\u001b[34m        searching \u001b[0m| ████████████████████████████████████████ 100% 2/2                                            nore\u001b[0m    "
     ]
    },
    {
     "name": "stderr",
     "output_type": "stream",
     "text": [
      "\u001b[34m           multiqc\u001b[0m | \u001b[33mNo analysis results found. Cleaning up…\u001b[0m\n",
      "\u001b[34m           multiqc\u001b[0m | \u001b[38;5;208m///\u001b[0m \u001b[1mhttps://multiqc.info\u001b[0m 🔍 \u001b[2mv1.28\u001b[0m\n",
      "\u001b[34m            config\u001b[0m | Loading config settings from: /Users/vlad/.multiqc_config.yaml\n",
      "\u001b[34m       file_search\u001b[0m | Search path: /Users/vlad/git/example-timeline\n"
     ]
    },
    {
     "name": "stdout",
     "output_type": "stream",
     "text": [
      "\n",
      "\u001b[34m        searching \u001b[0m| ████████████████████████████████████████ 100% 2/2                                            nore\u001b[0m    "
     ]
    },
    {
     "name": "stderr",
     "output_type": "stream",
     "text": [
      "\u001b[34m           multiqc\u001b[0m | \u001b[33mNo analysis results found. Cleaning up…\u001b[0m\n"
     ]
    },
    {
     "name": "stdout",
     "output_type": "stream",
     "text": [
      "\n"
     ]
    }
   ],
   "source": [
    "import multiqc\n",
    "from multiqc import ClConfig\n",
    "\n",
    "for i, path in enumerate([\n",
    "    \"/Users/vlad/Seqera/multiqc_heavy_examples/Petropoulus_2016/fastqc/ERX112088*\",\n",
    "    \"/Users/vlad/Seqera/multiqc_heavy_examples/Petropoulus_2016/fastqc/ERX112089*\",\n",
    "    \"/Users/vlad/Seqera/multiqc_heavy_examples/Petropoulus_2016/fastqc/ERX112090*\",\n",
    "    \"/Users/vlad/Seqera/multiqc_heavy_examples/Petropoulus_2016/fastqc/ERX112091*\",\n",
    "    \"/Users/vlad/Seqera/multiqc_heavy_examples/Petropoulus_2016/fastqc/ERX112092*\",\n",
    "]):\n",
    "    multiqc.run(\n",
    "        cfg=ClConfig(\n",
    "            output_dir=f\"/Users/vlad/tmp/combine_tests/run{i + 1}\",\n",
    "            force=True,\n",
    "        )\n",
    "    )"
   ]
  },
  {
   "cell_type": "code",
   "execution_count": 6,
   "metadata": {},
   "outputs": [
    {
     "name": "stdout",
     "output_type": "stream",
     "text": [
      "/Users/vlad/tmp/combine_tests/run1/multiqc_data/parquet/fastqc-status-check-heatmap.parquet\n",
      "/Users/vlad/tmp/combine_tests/run1/multiqc_data/parquet/fastqc_adapter_content_plot.parquet\n",
      "/Users/vlad/tmp/combine_tests/run1/multiqc_data/parquet/fastqc_overrepresented_sequences_plot.parquet\n",
      "/Users/vlad/tmp/combine_tests/run1/multiqc_data/parquet/fastqc_per_base_n_content_plot.parquet\n",
      "/Users/vlad/tmp/combine_tests/run1/multiqc_data/parquet/fastqc_per_base_sequence_quality_plot.parquet\n",
      "/Users/vlad/tmp/combine_tests/run1/multiqc_data/parquet/fastqc_per_sequence_gc_content_plot.parquet\n",
      "/Users/vlad/tmp/combine_tests/run1/multiqc_data/parquet/fastqc_per_sequence_quality_scores_plot.parquet\n",
      "/Users/vlad/tmp/combine_tests/run1/multiqc_data/parquet/fastqc_sequence_counts_plot.parquet\n",
      "/Users/vlad/tmp/combine_tests/run1/multiqc_data/parquet/fastqc_sequence_duplication_levels_plot.parquet\n",
      "/Users/vlad/tmp/combine_tests/run1/multiqc_data/parquet/fastqc_top_overrepresented_sequences_table.parquet\n",
      "/Users/vlad/tmp/combine_tests/run1/multiqc_data/parquet/general_stats_table.parquet\n",
      "/Users/vlad/tmp/combine_tests/run1plus2/multiqc_data/parquet/general_stats_table.parquet\n",
      "/Users/vlad/tmp/combine_tests/run2/multiqc_data/parquet/fastqc-status-check-heatmap.parquet\n",
      "/Users/vlad/tmp/combine_tests/run2/multiqc_data/parquet/fastqc_adapter_content_plot.parquet\n",
      "/Users/vlad/tmp/combine_tests/run2/multiqc_data/parquet/fastqc_overrepresented_sequences_plot.parquet\n",
      "/Users/vlad/tmp/combine_tests/run2/multiqc_data/parquet/fastqc_per_base_n_content_plot.parquet\n",
      "/Users/vlad/tmp/combine_tests/run2/multiqc_data/parquet/fastqc_per_base_sequence_quality_plot.parquet\n",
      "/Users/vlad/tmp/combine_tests/run2/multiqc_data/parquet/fastqc_per_sequence_gc_content_plot.parquet\n",
      "/Users/vlad/tmp/combine_tests/run2/multiqc_data/parquet/fastqc_per_sequence_quality_scores_plot.parquet\n",
      "/Users/vlad/tmp/combine_tests/run2/multiqc_data/parquet/fastqc_sequence_counts_plot.parquet\n",
      "/Users/vlad/tmp/combine_tests/run2/multiqc_data/parquet/fastqc_sequence_duplication_levels_plot.parquet\n",
      "/Users/vlad/tmp/combine_tests/run2/multiqc_data/parquet/fastqc_top_overrepresented_sequences_table.parquet\n",
      "/Users/vlad/tmp/combine_tests/run2/multiqc_data/parquet/general_stats_table.parquet\n",
      "/Users/vlad/tmp/combine_tests/run3/multiqc_data/parquet/fastqc-status-check-heatmap.parquet\n",
      "/Users/vlad/tmp/combine_tests/run3/multiqc_data/parquet/fastqc_overrepresented_sequences_plot.parquet\n",
      "/Users/vlad/tmp/combine_tests/run3/multiqc_data/parquet/fastqc_per_base_n_content_plot.parquet\n",
      "/Users/vlad/tmp/combine_tests/run3/multiqc_data/parquet/fastqc_per_base_sequence_quality_plot.parquet\n",
      "/Users/vlad/tmp/combine_tests/run3/multiqc_data/parquet/fastqc_per_sequence_gc_content_plot.parquet\n",
      "/Users/vlad/tmp/combine_tests/run3/multiqc_data/parquet/fastqc_per_sequence_quality_scores_plot.parquet\n",
      "/Users/vlad/tmp/combine_tests/run3/multiqc_data/parquet/fastqc_sequence_counts_plot.parquet\n",
      "/Users/vlad/tmp/combine_tests/run3/multiqc_data/parquet/fastqc_sequence_duplication_levels_plot.parquet\n",
      "/Users/vlad/tmp/combine_tests/run3/multiqc_data/parquet/fastqc_top_overrepresented_sequences_table.parquet\n",
      "/Users/vlad/tmp/combine_tests/run3/multiqc_data/parquet/general_stats_table.parquet\n",
      "/Users/vlad/tmp/combine_tests/run4/multiqc_data/parquet/fastqc-status-check-heatmap.parquet\n",
      "/Users/vlad/tmp/combine_tests/run4/multiqc_data/parquet/fastqc_adapter_content_plot.parquet\n",
      "/Users/vlad/tmp/combine_tests/run4/multiqc_data/parquet/fastqc_overrepresented_sequences_plot.parquet\n",
      "/Users/vlad/tmp/combine_tests/run4/multiqc_data/parquet/fastqc_per_base_n_content_plot.parquet\n",
      "/Users/vlad/tmp/combine_tests/run4/multiqc_data/parquet/fastqc_per_base_sequence_quality_plot.parquet\n",
      "/Users/vlad/tmp/combine_tests/run4/multiqc_data/parquet/fastqc_per_sequence_gc_content_plot.parquet\n",
      "/Users/vlad/tmp/combine_tests/run4/multiqc_data/parquet/fastqc_per_sequence_quality_scores_plot.parquet\n",
      "/Users/vlad/tmp/combine_tests/run4/multiqc_data/parquet/fastqc_sequence_counts_plot.parquet\n",
      "/Users/vlad/tmp/combine_tests/run4/multiqc_data/parquet/fastqc_sequence_duplication_levels_plot.parquet\n",
      "/Users/vlad/tmp/combine_tests/run4/multiqc_data/parquet/fastqc_top_overrepresented_sequences_table.parquet\n",
      "/Users/vlad/tmp/combine_tests/run4/multiqc_data/parquet/general_stats_table.parquet\n",
      "/Users/vlad/tmp/combine_tests/run5/multiqc_data/parquet/fastqc-status-check-heatmap.parquet\n",
      "/Users/vlad/tmp/combine_tests/run5/multiqc_data/parquet/fastqc_adapter_content_plot.parquet\n",
      "/Users/vlad/tmp/combine_tests/run5/multiqc_data/parquet/fastqc_overrepresented_sequences_plot.parquet\n",
      "/Users/vlad/tmp/combine_tests/run5/multiqc_data/parquet/fastqc_per_base_n_content_plot.parquet\n",
      "/Users/vlad/tmp/combine_tests/run5/multiqc_data/parquet/fastqc_per_base_sequence_quality_plot.parquet\n",
      "/Users/vlad/tmp/combine_tests/run5/multiqc_data/parquet/fastqc_per_sequence_gc_content_plot.parquet\n",
      "/Users/vlad/tmp/combine_tests/run5/multiqc_data/parquet/fastqc_per_sequence_quality_scores_plot.parquet\n",
      "/Users/vlad/tmp/combine_tests/run5/multiqc_data/parquet/fastqc_sequence_counts_plot.parquet\n",
      "/Users/vlad/tmp/combine_tests/run5/multiqc_data/parquet/fastqc_sequence_duplication_levels_plot.parquet\n",
      "/Users/vlad/tmp/combine_tests/run5/multiqc_data/parquet/fastqc_top_overrepresented_sequences_table.parquet\n",
      "/Users/vlad/tmp/combine_tests/run5/multiqc_data/parquet/general_stats_table.parquet\n"
     ]
    }
   ],
   "source": [
    "%ls /Users/vlad/tmp/combine_tests/run*/multiqc_data/parquet/*.parquet"
   ]
  },
  {
   "cell_type": "markdown",
   "metadata": {},
   "source": [
    "We can run MultiQC on the outputs of those runs even without the access to the original data:"
   ]
  },
  {
   "cell_type": "code",
   "execution_count": 4,
   "metadata": {},
   "outputs": [
    {
     "name": "stderr",
     "output_type": "stream",
     "text": [
      "\u001b[34m           multiqc\u001b[0m | \u001b[38;5;208m///\u001b[0m \u001b[1mhttps://multiqc.info\u001b[0m 🔍 \u001b[2mv1.28\u001b[0m\n",
      "\u001b[34m            config\u001b[0m | Loading config settings from: /Users/vlad/.multiqc_config.yaml\n",
      "\u001b[34m       file_search\u001b[0m | Search path: /Users/vlad/tmp/combine_tests/run1/multiqc_data/multiqc_data.json\n",
      "\u001b[34m       file_search\u001b[0m | Search path: /Users/vlad/tmp/combine_tests/run2/multiqc_data/multiqc_data.json\n"
     ]
    },
    {
     "name": "stdout",
     "output_type": "stream",
     "text": [
      "\u001b[34m        searching \u001b[0m| ████████████████████████████████████████ 100% 2/2                                                   json\u001b[0m"
     ]
    },
    {
     "name": "stderr",
     "output_type": "stream",
     "text": [
      "\u001b[34m load_multiqc_data\u001b[0m | Loading previous run from /Users/vlad/tmp/combine_tests/run1/multiqc_data/multiqc_data.json\n",
      "\u001b[34m load_multiqc_data\u001b[0m | Loading module FastQC\n",
      "\u001b[34m load_multiqc_data\u001b[0m | Loading module Software Versions\n",
      "\u001b[34m load_multiqc_data\u001b[0m | Loading previous run from /Users/vlad/tmp/combine_tests/run2/multiqc_data/multiqc_data.json\n",
      "\u001b[34m load_multiqc_data\u001b[0m | Loading module FastQC\n",
      "\u001b[34m load_multiqc_data\u001b[0m | Loading module Software Versions\n",
      "\u001b[34m     write_results\u001b[0m | Data        : /Users/vlad/tmp/combine_tests/run1plus2/multiqc_data   (overwritten)\n",
      "\u001b[34m     write_results\u001b[0m | Report      : /Users/vlad/tmp/combine_tests/run1plus2/multiqc_report.html   (overwritten)\n",
      "\u001b[34m           multiqc\u001b[0m | MultiQC complete\n"
     ]
    },
    {
     "name": "stdout",
     "output_type": "stream",
     "text": [
      "\n"
     ]
    },
    {
     "data": {
      "text/plain": [
       "<multiqc.multiqc.RunResult at 0x1107845c0>"
      ]
     },
     "execution_count": 4,
     "metadata": {},
     "output_type": "execute_result"
    }
   ],
   "source": [
    "multiqc.run(\n",
    "    \"/Users/vlad/tmp/combine_tests/run1/multiqc_data/multiqc_data.json\",\n",
    "    \"/Users/vlad/tmp/combine_tests/run2/multiqc_data/multiqc_data.json\",\n",
    "    cfg=ClConfig(\n",
    "        output_dir=\"/Users/vlad/tmp/combine_tests/run1plus2\",\n",
    "        force=True,\n",
    "    )\n",
    ")"
   ]
  },
  {
   "cell_type": "markdown",
   "metadata": {},
   "source": [
    "However, a more interesting usecase is to make use of the columnar nature of the parquet file format to e.g. explore metric trends over time. We would use duckdb to query parquet. They can be as well located e.g. as form of a data lake on an s3 bucket."
   ]
  },
  {
   "cell_type": "code",
   "execution_count": 7,
   "metadata": {},
   "outputs": [
    {
     "name": "stdout",
     "output_type": "stream",
     "text": [
      "                     timestamp sample_name  total_sequences\n",
      "0   2025-04-09T13:28:40.341728  ERX1120886        2286825.0\n",
      "1   2025-04-09T13:28:40.341728  ERX1120889        2383241.0\n",
      "2   2025-04-09T13:28:40.341728  ERX1120888        4886841.0\n",
      "3   2025-04-09T13:28:40.341728  ERX1120885        4941064.0\n",
      "4   2025-04-09T13:28:40.341728  ERX1120887        5453345.0\n",
      "5   2025-04-09T13:28:40.985669  ERX1120890        3857107.0\n",
      "6   2025-04-09T13:28:40.985669  ERX1120891        4788791.0\n",
      "7   2025-04-09T13:28:40.985669  ERX1120896        5547967.0\n",
      "8   2025-04-09T13:28:40.985669  ERX1120894        6603904.0\n",
      "9   2025-04-09T13:28:40.985669  ERX1120899        6849883.0\n",
      "10  2025-04-09T13:28:40.985669  ERX1120898        7907728.0\n",
      "11  2025-04-09T13:28:40.985669  ERX1120897        8527930.0\n",
      "12  2025-04-09T13:28:40.985669  ERX1120895        8948672.0\n",
      "13  2025-04-09T13:28:40.985669  ERX1120892        9414506.0\n",
      "14  2025-04-09T13:28:40.985669  ERX1120893       12015105.0\n",
      "15  2025-04-09T13:28:41.491834  ERX1120901        4839189.0\n",
      "16  2025-04-09T13:28:41.491834  ERX1120900        5558624.0\n",
      "17  2025-04-09T13:28:41.491834  ERX1120904        7543991.0\n",
      "18  2025-04-09T13:28:41.491834  ERX1120905        7742674.0\n",
      "19  2025-04-09T13:28:41.491834  ERX1120909        8174409.0\n",
      "20  2025-04-09T13:28:41.491834  ERX1120908        8340607.0\n",
      "21  2025-04-09T13:28:41.491834  ERX1120907        8577851.0\n",
      "22  2025-04-09T13:28:41.491834  ERX1120903        9573539.0\n",
      "23  2025-04-09T13:28:41.491834  ERX1120902       13177847.0\n",
      "24  2025-04-09T13:28:41.491834  ERX1120906       19285247.0\n",
      "25  2025-04-09T13:28:42.037608  ERX1120915         822379.0\n",
      "26  2025-04-09T13:28:42.037608  ERX1120918        1319585.0\n",
      "27  2025-04-09T13:28:42.037608  ERX1120916        1442659.0\n",
      "28  2025-04-09T13:28:42.037608  ERX1120919        1618772.0\n",
      "29  2025-04-09T13:28:42.037608  ERX1120913        2899898.0\n",
      "30  2025-04-09T13:28:42.037608  ERX1120914        3348874.0\n",
      "31  2025-04-09T13:28:42.037608  ERX1120917        3894233.0\n",
      "32  2025-04-09T13:28:42.037608  ERX1120912        4601638.0\n",
      "33  2025-04-09T13:28:42.037608  ERX1120911        5206414.0\n",
      "34  2025-04-09T13:28:42.037608  ERX1120910        6617446.0\n",
      "35  2025-04-09T13:28:42.550662  ERX1120920         187328.0\n",
      "36  2025-04-09T13:28:42.550662  ERX1120922        1746222.0\n",
      "37  2025-04-09T13:28:42.550662  ERX1120921        1927633.0\n",
      "38  2025-04-09T13:28:42.550662  ERX1120924        5365378.0\n",
      "39  2025-04-09T13:28:42.550662  ERX1120926        7823539.0\n",
      "40  2025-04-09T13:28:42.550662  ERX1120928        7971349.0\n",
      "41  2025-04-09T13:28:42.550662  ERX1120927        7984227.0\n",
      "42  2025-04-09T13:28:42.550662  ERX1120925        8141095.0\n",
      "43  2025-04-09T13:28:42.550662  ERX1120923        9889335.0\n",
      "44  2025-04-09T13:28:42.550662  ERX1120929       15477680.0\n"
     ]
    }
   ],
   "source": [
    "import pandas as pd\n",
    "import duckdb\n",
    "\n",
    "con = duckdb.connect()\n",
    "df = con.execute(\"\"\"\n",
    "    SELECT \n",
    "        sample_name, \n",
    "        val_raw as total_sequences,\n",
    "        timestamp\n",
    "    FROM '/Users/vlad/tmp/combine_tests/run[1-6]/multiqc_data/parquet/general_stats_table.parquet'\n",
    "    WHERE metric_name = 'total_sequences'\n",
    "    ORDER BY timestamp, val_raw\n",
    "\"\"\").df()\n",
    "\n",
    "print(df[['timestamp', 'sample_name', 'total_sequences']])"
   ]
  },
  {
   "cell_type": "markdown",
   "metadata": {},
   "source": [
    "Let's start with a histogram of total sequences"
   ]
  },
  {
   "cell_type": "code",
   "execution_count": 8,
   "metadata": {},
   "outputs": [
    {
     "data": {
      "application/vnd.plotly.v1+json": {
       "config": {
        "plotlyServerURL": "https://plot.ly"
       },
       "data": [
        {
         "name": "Total Sequences",
         "nbinsx": 10,
         "type": "histogram",
         "x": [
          2286825,
          2383241,
          4886841,
          4941064,
          5453345,
          3857107,
          4788791,
          5547967,
          6603904,
          6849883,
          7907728,
          8527930,
          8948672,
          9414506,
          12015105,
          4839189,
          5558624,
          7543991,
          7742674,
          8174409,
          8340607,
          8577851,
          9573539,
          13177847,
          19285247,
          822379,
          1319585,
          1442659,
          1618772,
          2899898,
          3348874,
          3894233,
          4601638,
          5206414,
          6617446,
          187328,
          1746222,
          1927633,
          5365378,
          7823539,
          7971349,
          7984227,
          8141095,
          9889335,
          15477680
         ]
        }
       ],
       "layout": {
        "template": {
         "data": {
          "bar": [
           {
            "error_x": {
             "color": "#2a3f5f"
            },
            "error_y": {
             "color": "#2a3f5f"
            },
            "marker": {
             "line": {
              "color": "#E5ECF6",
              "width": 0.5
             },
             "pattern": {
              "fillmode": "overlay",
              "size": 10,
              "solidity": 0.2
             }
            },
            "type": "bar"
           }
          ],
          "barpolar": [
           {
            "marker": {
             "line": {
              "color": "#E5ECF6",
              "width": 0.5
             },
             "pattern": {
              "fillmode": "overlay",
              "size": 10,
              "solidity": 0.2
             }
            },
            "type": "barpolar"
           }
          ],
          "carpet": [
           {
            "aaxis": {
             "endlinecolor": "#2a3f5f",
             "gridcolor": "white",
             "linecolor": "white",
             "minorgridcolor": "white",
             "startlinecolor": "#2a3f5f"
            },
            "baxis": {
             "endlinecolor": "#2a3f5f",
             "gridcolor": "white",
             "linecolor": "white",
             "minorgridcolor": "white",
             "startlinecolor": "#2a3f5f"
            },
            "type": "carpet"
           }
          ],
          "choropleth": [
           {
            "colorbar": {
             "outlinewidth": 0,
             "ticks": ""
            },
            "type": "choropleth"
           }
          ],
          "contour": [
           {
            "colorbar": {
             "outlinewidth": 0,
             "ticks": ""
            },
            "colorscale": [
             [
              0,
              "#0d0887"
             ],
             [
              0.1111111111111111,
              "#46039f"
             ],
             [
              0.2222222222222222,
              "#7201a8"
             ],
             [
              0.3333333333333333,
              "#9c179e"
             ],
             [
              0.4444444444444444,
              "#bd3786"
             ],
             [
              0.5555555555555556,
              "#d8576b"
             ],
             [
              0.6666666666666666,
              "#ed7953"
             ],
             [
              0.7777777777777778,
              "#fb9f3a"
             ],
             [
              0.8888888888888888,
              "#fdca26"
             ],
             [
              1,
              "#f0f921"
             ]
            ],
            "type": "contour"
           }
          ],
          "contourcarpet": [
           {
            "colorbar": {
             "outlinewidth": 0,
             "ticks": ""
            },
            "type": "contourcarpet"
           }
          ],
          "heatmap": [
           {
            "colorbar": {
             "outlinewidth": 0,
             "ticks": ""
            },
            "colorscale": [
             [
              0,
              "#0d0887"
             ],
             [
              0.1111111111111111,
              "#46039f"
             ],
             [
              0.2222222222222222,
              "#7201a8"
             ],
             [
              0.3333333333333333,
              "#9c179e"
             ],
             [
              0.4444444444444444,
              "#bd3786"
             ],
             [
              0.5555555555555556,
              "#d8576b"
             ],
             [
              0.6666666666666666,
              "#ed7953"
             ],
             [
              0.7777777777777778,
              "#fb9f3a"
             ],
             [
              0.8888888888888888,
              "#fdca26"
             ],
             [
              1,
              "#f0f921"
             ]
            ],
            "type": "heatmap"
           }
          ],
          "heatmapgl": [
           {
            "colorbar": {
             "outlinewidth": 0,
             "ticks": ""
            },
            "colorscale": [
             [
              0,
              "#0d0887"
             ],
             [
              0.1111111111111111,
              "#46039f"
             ],
             [
              0.2222222222222222,
              "#7201a8"
             ],
             [
              0.3333333333333333,
              "#9c179e"
             ],
             [
              0.4444444444444444,
              "#bd3786"
             ],
             [
              0.5555555555555556,
              "#d8576b"
             ],
             [
              0.6666666666666666,
              "#ed7953"
             ],
             [
              0.7777777777777778,
              "#fb9f3a"
             ],
             [
              0.8888888888888888,
              "#fdca26"
             ],
             [
              1,
              "#f0f921"
             ]
            ],
            "type": "heatmapgl"
           }
          ],
          "histogram": [
           {
            "marker": {
             "pattern": {
              "fillmode": "overlay",
              "size": 10,
              "solidity": 0.2
             }
            },
            "type": "histogram"
           }
          ],
          "histogram2d": [
           {
            "colorbar": {
             "outlinewidth": 0,
             "ticks": ""
            },
            "colorscale": [
             [
              0,
              "#0d0887"
             ],
             [
              0.1111111111111111,
              "#46039f"
             ],
             [
              0.2222222222222222,
              "#7201a8"
             ],
             [
              0.3333333333333333,
              "#9c179e"
             ],
             [
              0.4444444444444444,
              "#bd3786"
             ],
             [
              0.5555555555555556,
              "#d8576b"
             ],
             [
              0.6666666666666666,
              "#ed7953"
             ],
             [
              0.7777777777777778,
              "#fb9f3a"
             ],
             [
              0.8888888888888888,
              "#fdca26"
             ],
             [
              1,
              "#f0f921"
             ]
            ],
            "type": "histogram2d"
           }
          ],
          "histogram2dcontour": [
           {
            "colorbar": {
             "outlinewidth": 0,
             "ticks": ""
            },
            "colorscale": [
             [
              0,
              "#0d0887"
             ],
             [
              0.1111111111111111,
              "#46039f"
             ],
             [
              0.2222222222222222,
              "#7201a8"
             ],
             [
              0.3333333333333333,
              "#9c179e"
             ],
             [
              0.4444444444444444,
              "#bd3786"
             ],
             [
              0.5555555555555556,
              "#d8576b"
             ],
             [
              0.6666666666666666,
              "#ed7953"
             ],
             [
              0.7777777777777778,
              "#fb9f3a"
             ],
             [
              0.8888888888888888,
              "#fdca26"
             ],
             [
              1,
              "#f0f921"
             ]
            ],
            "type": "histogram2dcontour"
           }
          ],
          "mesh3d": [
           {
            "colorbar": {
             "outlinewidth": 0,
             "ticks": ""
            },
            "type": "mesh3d"
           }
          ],
          "parcoords": [
           {
            "line": {
             "colorbar": {
              "outlinewidth": 0,
              "ticks": ""
             }
            },
            "type": "parcoords"
           }
          ],
          "pie": [
           {
            "automargin": true,
            "type": "pie"
           }
          ],
          "scatter": [
           {
            "fillpattern": {
             "fillmode": "overlay",
             "size": 10,
             "solidity": 0.2
            },
            "type": "scatter"
           }
          ],
          "scatter3d": [
           {
            "line": {
             "colorbar": {
              "outlinewidth": 0,
              "ticks": ""
             }
            },
            "marker": {
             "colorbar": {
              "outlinewidth": 0,
              "ticks": ""
             }
            },
            "type": "scatter3d"
           }
          ],
          "scattercarpet": [
           {
            "marker": {
             "colorbar": {
              "outlinewidth": 0,
              "ticks": ""
             }
            },
            "type": "scattercarpet"
           }
          ],
          "scattergeo": [
           {
            "marker": {
             "colorbar": {
              "outlinewidth": 0,
              "ticks": ""
             }
            },
            "type": "scattergeo"
           }
          ],
          "scattergl": [
           {
            "marker": {
             "colorbar": {
              "outlinewidth": 0,
              "ticks": ""
             }
            },
            "type": "scattergl"
           }
          ],
          "scattermapbox": [
           {
            "marker": {
             "colorbar": {
              "outlinewidth": 0,
              "ticks": ""
             }
            },
            "type": "scattermapbox"
           }
          ],
          "scatterpolar": [
           {
            "marker": {
             "colorbar": {
              "outlinewidth": 0,
              "ticks": ""
             }
            },
            "type": "scatterpolar"
           }
          ],
          "scatterpolargl": [
           {
            "marker": {
             "colorbar": {
              "outlinewidth": 0,
              "ticks": ""
             }
            },
            "type": "scatterpolargl"
           }
          ],
          "scatterternary": [
           {
            "marker": {
             "colorbar": {
              "outlinewidth": 0,
              "ticks": ""
             }
            },
            "type": "scatterternary"
           }
          ],
          "surface": [
           {
            "colorbar": {
             "outlinewidth": 0,
             "ticks": ""
            },
            "colorscale": [
             [
              0,
              "#0d0887"
             ],
             [
              0.1111111111111111,
              "#46039f"
             ],
             [
              0.2222222222222222,
              "#7201a8"
             ],
             [
              0.3333333333333333,
              "#9c179e"
             ],
             [
              0.4444444444444444,
              "#bd3786"
             ],
             [
              0.5555555555555556,
              "#d8576b"
             ],
             [
              0.6666666666666666,
              "#ed7953"
             ],
             [
              0.7777777777777778,
              "#fb9f3a"
             ],
             [
              0.8888888888888888,
              "#fdca26"
             ],
             [
              1,
              "#f0f921"
             ]
            ],
            "type": "surface"
           }
          ],
          "table": [
           {
            "cells": {
             "fill": {
              "color": "#EBF0F8"
             },
             "line": {
              "color": "white"
             }
            },
            "header": {
             "fill": {
              "color": "#C8D4E3"
             },
             "line": {
              "color": "white"
             }
            },
            "type": "table"
           }
          ]
         },
         "layout": {
          "annotationdefaults": {
           "arrowcolor": "#2a3f5f",
           "arrowhead": 0,
           "arrowwidth": 1
          },
          "autotypenumbers": "strict",
          "coloraxis": {
           "colorbar": {
            "outlinewidth": 0,
            "ticks": ""
           }
          },
          "colorscale": {
           "diverging": [
            [
             0,
             "#8e0152"
            ],
            [
             0.1,
             "#c51b7d"
            ],
            [
             0.2,
             "#de77ae"
            ],
            [
             0.3,
             "#f1b6da"
            ],
            [
             0.4,
             "#fde0ef"
            ],
            [
             0.5,
             "#f7f7f7"
            ],
            [
             0.6,
             "#e6f5d0"
            ],
            [
             0.7,
             "#b8e186"
            ],
            [
             0.8,
             "#7fbc41"
            ],
            [
             0.9,
             "#4d9221"
            ],
            [
             1,
             "#276419"
            ]
           ],
           "sequential": [
            [
             0,
             "#0d0887"
            ],
            [
             0.1111111111111111,
             "#46039f"
            ],
            [
             0.2222222222222222,
             "#7201a8"
            ],
            [
             0.3333333333333333,
             "#9c179e"
            ],
            [
             0.4444444444444444,
             "#bd3786"
            ],
            [
             0.5555555555555556,
             "#d8576b"
            ],
            [
             0.6666666666666666,
             "#ed7953"
            ],
            [
             0.7777777777777778,
             "#fb9f3a"
            ],
            [
             0.8888888888888888,
             "#fdca26"
            ],
            [
             1,
             "#f0f921"
            ]
           ],
           "sequentialminus": [
            [
             0,
             "#0d0887"
            ],
            [
             0.1111111111111111,
             "#46039f"
            ],
            [
             0.2222222222222222,
             "#7201a8"
            ],
            [
             0.3333333333333333,
             "#9c179e"
            ],
            [
             0.4444444444444444,
             "#bd3786"
            ],
            [
             0.5555555555555556,
             "#d8576b"
            ],
            [
             0.6666666666666666,
             "#ed7953"
            ],
            [
             0.7777777777777778,
             "#fb9f3a"
            ],
            [
             0.8888888888888888,
             "#fdca26"
            ],
            [
             1,
             "#f0f921"
            ]
           ]
          },
          "colorway": [
           "#636efa",
           "#EF553B",
           "#00cc96",
           "#ab63fa",
           "#FFA15A",
           "#19d3f3",
           "#FF6692",
           "#B6E880",
           "#FF97FF",
           "#FECB52"
          ],
          "font": {
           "color": "#2a3f5f"
          },
          "geo": {
           "bgcolor": "white",
           "lakecolor": "white",
           "landcolor": "#E5ECF6",
           "showlakes": true,
           "showland": true,
           "subunitcolor": "white"
          },
          "hoverlabel": {
           "align": "left"
          },
          "hovermode": "closest",
          "mapbox": {
           "style": "light"
          },
          "paper_bgcolor": "white",
          "plot_bgcolor": "#E5ECF6",
          "polar": {
           "angularaxis": {
            "gridcolor": "white",
            "linecolor": "white",
            "ticks": ""
           },
           "bgcolor": "#E5ECF6",
           "radialaxis": {
            "gridcolor": "white",
            "linecolor": "white",
            "ticks": ""
           }
          },
          "scene": {
           "xaxis": {
            "backgroundcolor": "#E5ECF6",
            "gridcolor": "white",
            "gridwidth": 2,
            "linecolor": "white",
            "showbackground": true,
            "ticks": "",
            "zerolinecolor": "white"
           },
           "yaxis": {
            "backgroundcolor": "#E5ECF6",
            "gridcolor": "white",
            "gridwidth": 2,
            "linecolor": "white",
            "showbackground": true,
            "ticks": "",
            "zerolinecolor": "white"
           },
           "zaxis": {
            "backgroundcolor": "#E5ECF6",
            "gridcolor": "white",
            "gridwidth": 2,
            "linecolor": "white",
            "showbackground": true,
            "ticks": "",
            "zerolinecolor": "white"
           }
          },
          "shapedefaults": {
           "line": {
            "color": "#2a3f5f"
           }
          },
          "ternary": {
           "aaxis": {
            "gridcolor": "white",
            "linecolor": "white",
            "ticks": ""
           },
           "baxis": {
            "gridcolor": "white",
            "linecolor": "white",
            "ticks": ""
           },
           "bgcolor": "#E5ECF6",
           "caxis": {
            "gridcolor": "white",
            "linecolor": "white",
            "ticks": ""
           }
          },
          "title": {
           "x": 0.05
          },
          "xaxis": {
           "automargin": true,
           "gridcolor": "white",
           "linecolor": "white",
           "ticks": "",
           "title": {
            "standoff": 15
           },
           "zerolinecolor": "white",
           "zerolinewidth": 2
          },
          "yaxis": {
           "automargin": true,
           "gridcolor": "white",
           "linecolor": "white",
           "ticks": "",
           "title": {
            "standoff": 15
           },
           "zerolinecolor": "white",
           "zerolinewidth": 2
          }
         }
        },
        "title": {
         "text": "Distribution of Total Sequences"
        },
        "xaxis": {
         "title": {
          "text": "Total Sequences"
         }
        },
        "yaxis": {
         "title": {
          "text": "Count"
         }
        }
       }
      }
     },
     "metadata": {},
     "output_type": "display_data"
    }
   ],
   "source": [
    "import plotly.graph_objs as go\n",
    "\n",
    "data = [\n",
    "    go.Histogram(\n",
    "        x=df[\"total_sequences\"],\n",
    "        name=\"Total Sequences\",\n",
    "        nbinsx=10,\n",
    "    )\n",
    "]\n",
    "\n",
    "layout = {\n",
    "    \"title\": \"Distribution of Total Sequences\",\n",
    "    \"xaxis\": {\"title\": \"Total Sequences\"},\n",
    "    \"yaxis\": {\"title\": \"Count\"}\n",
    "}\n",
    "\n",
    "go.Figure(data=data, layout=layout).show()"
   ]
  },
  {
   "cell_type": "markdown",
   "metadata": {},
   "source": [
    "Now let's plot a timeline"
   ]
  },
  {
   "cell_type": "code",
   "execution_count": 9,
   "metadata": {},
   "outputs": [
    {
     "data": {
      "application/vnd.plotly.v1+json": {
       "config": {
        "plotlyServerURL": "https://plot.ly"
       },
       "data": [
        {
         "marker": {
          "opacity": 0.7,
          "size": 10
         },
         "mode": "markers",
         "name": "Total Sequences",
         "type": "scatter",
         "x": [
          "2025-04-09T13:28:40.341728",
          "2025-04-09T13:28:40.341728",
          "2025-04-09T13:28:40.341728",
          "2025-04-09T13:28:40.341728",
          "2025-04-09T13:28:40.341728",
          "2025-04-09T13:28:40.985669",
          "2025-04-09T13:28:40.985669",
          "2025-04-09T13:28:40.985669",
          "2025-04-09T13:28:40.985669",
          "2025-04-09T13:28:40.985669",
          "2025-04-09T13:28:40.985669",
          "2025-04-09T13:28:40.985669",
          "2025-04-09T13:28:40.985669",
          "2025-04-09T13:28:40.985669",
          "2025-04-09T13:28:40.985669",
          "2025-04-09T13:28:41.491834",
          "2025-04-09T13:28:41.491834",
          "2025-04-09T13:28:41.491834",
          "2025-04-09T13:28:41.491834",
          "2025-04-09T13:28:41.491834",
          "2025-04-09T13:28:41.491834",
          "2025-04-09T13:28:41.491834",
          "2025-04-09T13:28:41.491834",
          "2025-04-09T13:28:41.491834",
          "2025-04-09T13:28:41.491834",
          "2025-04-09T13:28:42.037608",
          "2025-04-09T13:28:42.037608",
          "2025-04-09T13:28:42.037608",
          "2025-04-09T13:28:42.037608",
          "2025-04-09T13:28:42.037608",
          "2025-04-09T13:28:42.037608",
          "2025-04-09T13:28:42.037608",
          "2025-04-09T13:28:42.037608",
          "2025-04-09T13:28:42.037608",
          "2025-04-09T13:28:42.037608",
          "2025-04-09T13:28:42.550662",
          "2025-04-09T13:28:42.550662",
          "2025-04-09T13:28:42.550662",
          "2025-04-09T13:28:42.550662",
          "2025-04-09T13:28:42.550662",
          "2025-04-09T13:28:42.550662",
          "2025-04-09T13:28:42.550662",
          "2025-04-09T13:28:42.550662",
          "2025-04-09T13:28:42.550662",
          "2025-04-09T13:28:42.550662"
         ],
         "y": [
          2286825,
          2383241,
          4886841,
          4941064,
          5453345,
          12015105,
          9414506,
          8948672,
          8527930,
          7907728,
          6849883,
          6603904,
          5547967,
          4788791,
          3857107,
          19285247,
          13177847,
          8577851,
          8340607,
          9573539,
          7742674,
          7543991,
          5558624,
          4839189,
          8174409,
          6617446,
          5206414,
          3894233,
          3348874,
          4601638,
          1618772,
          1442659,
          1319585,
          822379,
          2899898,
          9889335,
          187328,
          1746222,
          1927633,
          5365378,
          7823539,
          7971349,
          7984227,
          8141095,
          15477680
         ]
        }
       ],
       "layout": {
        "hovermode": "closest",
        "template": {
         "data": {
          "bar": [
           {
            "error_x": {
             "color": "#2a3f5f"
            },
            "error_y": {
             "color": "#2a3f5f"
            },
            "marker": {
             "line": {
              "color": "#E5ECF6",
              "width": 0.5
             },
             "pattern": {
              "fillmode": "overlay",
              "size": 10,
              "solidity": 0.2
             }
            },
            "type": "bar"
           }
          ],
          "barpolar": [
           {
            "marker": {
             "line": {
              "color": "#E5ECF6",
              "width": 0.5
             },
             "pattern": {
              "fillmode": "overlay",
              "size": 10,
              "solidity": 0.2
             }
            },
            "type": "barpolar"
           }
          ],
          "carpet": [
           {
            "aaxis": {
             "endlinecolor": "#2a3f5f",
             "gridcolor": "white",
             "linecolor": "white",
             "minorgridcolor": "white",
             "startlinecolor": "#2a3f5f"
            },
            "baxis": {
             "endlinecolor": "#2a3f5f",
             "gridcolor": "white",
             "linecolor": "white",
             "minorgridcolor": "white",
             "startlinecolor": "#2a3f5f"
            },
            "type": "carpet"
           }
          ],
          "choropleth": [
           {
            "colorbar": {
             "outlinewidth": 0,
             "ticks": ""
            },
            "type": "choropleth"
           }
          ],
          "contour": [
           {
            "colorbar": {
             "outlinewidth": 0,
             "ticks": ""
            },
            "colorscale": [
             [
              0,
              "#0d0887"
             ],
             [
              0.1111111111111111,
              "#46039f"
             ],
             [
              0.2222222222222222,
              "#7201a8"
             ],
             [
              0.3333333333333333,
              "#9c179e"
             ],
             [
              0.4444444444444444,
              "#bd3786"
             ],
             [
              0.5555555555555556,
              "#d8576b"
             ],
             [
              0.6666666666666666,
              "#ed7953"
             ],
             [
              0.7777777777777778,
              "#fb9f3a"
             ],
             [
              0.8888888888888888,
              "#fdca26"
             ],
             [
              1,
              "#f0f921"
             ]
            ],
            "type": "contour"
           }
          ],
          "contourcarpet": [
           {
            "colorbar": {
             "outlinewidth": 0,
             "ticks": ""
            },
            "type": "contourcarpet"
           }
          ],
          "heatmap": [
           {
            "colorbar": {
             "outlinewidth": 0,
             "ticks": ""
            },
            "colorscale": [
             [
              0,
              "#0d0887"
             ],
             [
              0.1111111111111111,
              "#46039f"
             ],
             [
              0.2222222222222222,
              "#7201a8"
             ],
             [
              0.3333333333333333,
              "#9c179e"
             ],
             [
              0.4444444444444444,
              "#bd3786"
             ],
             [
              0.5555555555555556,
              "#d8576b"
             ],
             [
              0.6666666666666666,
              "#ed7953"
             ],
             [
              0.7777777777777778,
              "#fb9f3a"
             ],
             [
              0.8888888888888888,
              "#fdca26"
             ],
             [
              1,
              "#f0f921"
             ]
            ],
            "type": "heatmap"
           }
          ],
          "heatmapgl": [
           {
            "colorbar": {
             "outlinewidth": 0,
             "ticks": ""
            },
            "colorscale": [
             [
              0,
              "#0d0887"
             ],
             [
              0.1111111111111111,
              "#46039f"
             ],
             [
              0.2222222222222222,
              "#7201a8"
             ],
             [
              0.3333333333333333,
              "#9c179e"
             ],
             [
              0.4444444444444444,
              "#bd3786"
             ],
             [
              0.5555555555555556,
              "#d8576b"
             ],
             [
              0.6666666666666666,
              "#ed7953"
             ],
             [
              0.7777777777777778,
              "#fb9f3a"
             ],
             [
              0.8888888888888888,
              "#fdca26"
             ],
             [
              1,
              "#f0f921"
             ]
            ],
            "type": "heatmapgl"
           }
          ],
          "histogram": [
           {
            "marker": {
             "pattern": {
              "fillmode": "overlay",
              "size": 10,
              "solidity": 0.2
             }
            },
            "type": "histogram"
           }
          ],
          "histogram2d": [
           {
            "colorbar": {
             "outlinewidth": 0,
             "ticks": ""
            },
            "colorscale": [
             [
              0,
              "#0d0887"
             ],
             [
              0.1111111111111111,
              "#46039f"
             ],
             [
              0.2222222222222222,
              "#7201a8"
             ],
             [
              0.3333333333333333,
              "#9c179e"
             ],
             [
              0.4444444444444444,
              "#bd3786"
             ],
             [
              0.5555555555555556,
              "#d8576b"
             ],
             [
              0.6666666666666666,
              "#ed7953"
             ],
             [
              0.7777777777777778,
              "#fb9f3a"
             ],
             [
              0.8888888888888888,
              "#fdca26"
             ],
             [
              1,
              "#f0f921"
             ]
            ],
            "type": "histogram2d"
           }
          ],
          "histogram2dcontour": [
           {
            "colorbar": {
             "outlinewidth": 0,
             "ticks": ""
            },
            "colorscale": [
             [
              0,
              "#0d0887"
             ],
             [
              0.1111111111111111,
              "#46039f"
             ],
             [
              0.2222222222222222,
              "#7201a8"
             ],
             [
              0.3333333333333333,
              "#9c179e"
             ],
             [
              0.4444444444444444,
              "#bd3786"
             ],
             [
              0.5555555555555556,
              "#d8576b"
             ],
             [
              0.6666666666666666,
              "#ed7953"
             ],
             [
              0.7777777777777778,
              "#fb9f3a"
             ],
             [
              0.8888888888888888,
              "#fdca26"
             ],
             [
              1,
              "#f0f921"
             ]
            ],
            "type": "histogram2dcontour"
           }
          ],
          "mesh3d": [
           {
            "colorbar": {
             "outlinewidth": 0,
             "ticks": ""
            },
            "type": "mesh3d"
           }
          ],
          "parcoords": [
           {
            "line": {
             "colorbar": {
              "outlinewidth": 0,
              "ticks": ""
             }
            },
            "type": "parcoords"
           }
          ],
          "pie": [
           {
            "automargin": true,
            "type": "pie"
           }
          ],
          "scatter": [
           {
            "fillpattern": {
             "fillmode": "overlay",
             "size": 10,
             "solidity": 0.2
            },
            "type": "scatter"
           }
          ],
          "scatter3d": [
           {
            "line": {
             "colorbar": {
              "outlinewidth": 0,
              "ticks": ""
             }
            },
            "marker": {
             "colorbar": {
              "outlinewidth": 0,
              "ticks": ""
             }
            },
            "type": "scatter3d"
           }
          ],
          "scattercarpet": [
           {
            "marker": {
             "colorbar": {
              "outlinewidth": 0,
              "ticks": ""
             }
            },
            "type": "scattercarpet"
           }
          ],
          "scattergeo": [
           {
            "marker": {
             "colorbar": {
              "outlinewidth": 0,
              "ticks": ""
             }
            },
            "type": "scattergeo"
           }
          ],
          "scattergl": [
           {
            "marker": {
             "colorbar": {
              "outlinewidth": 0,
              "ticks": ""
             }
            },
            "type": "scattergl"
           }
          ],
          "scattermapbox": [
           {
            "marker": {
             "colorbar": {
              "outlinewidth": 0,
              "ticks": ""
             }
            },
            "type": "scattermapbox"
           }
          ],
          "scatterpolar": [
           {
            "marker": {
             "colorbar": {
              "outlinewidth": 0,
              "ticks": ""
             }
            },
            "type": "scatterpolar"
           }
          ],
          "scatterpolargl": [
           {
            "marker": {
             "colorbar": {
              "outlinewidth": 0,
              "ticks": ""
             }
            },
            "type": "scatterpolargl"
           }
          ],
          "scatterternary": [
           {
            "marker": {
             "colorbar": {
              "outlinewidth": 0,
              "ticks": ""
             }
            },
            "type": "scatterternary"
           }
          ],
          "surface": [
           {
            "colorbar": {
             "outlinewidth": 0,
             "ticks": ""
            },
            "colorscale": [
             [
              0,
              "#0d0887"
             ],
             [
              0.1111111111111111,
              "#46039f"
             ],
             [
              0.2222222222222222,
              "#7201a8"
             ],
             [
              0.3333333333333333,
              "#9c179e"
             ],
             [
              0.4444444444444444,
              "#bd3786"
             ],
             [
              0.5555555555555556,
              "#d8576b"
             ],
             [
              0.6666666666666666,
              "#ed7953"
             ],
             [
              0.7777777777777778,
              "#fb9f3a"
             ],
             [
              0.8888888888888888,
              "#fdca26"
             ],
             [
              1,
              "#f0f921"
             ]
            ],
            "type": "surface"
           }
          ],
          "table": [
           {
            "cells": {
             "fill": {
              "color": "#EBF0F8"
             },
             "line": {
              "color": "white"
             }
            },
            "header": {
             "fill": {
              "color": "#C8D4E3"
             },
             "line": {
              "color": "white"
             }
            },
            "type": "table"
           }
          ]
         },
         "layout": {
          "annotationdefaults": {
           "arrowcolor": "#2a3f5f",
           "arrowhead": 0,
           "arrowwidth": 1
          },
          "autotypenumbers": "strict",
          "coloraxis": {
           "colorbar": {
            "outlinewidth": 0,
            "ticks": ""
           }
          },
          "colorscale": {
           "diverging": [
            [
             0,
             "#8e0152"
            ],
            [
             0.1,
             "#c51b7d"
            ],
            [
             0.2,
             "#de77ae"
            ],
            [
             0.3,
             "#f1b6da"
            ],
            [
             0.4,
             "#fde0ef"
            ],
            [
             0.5,
             "#f7f7f7"
            ],
            [
             0.6,
             "#e6f5d0"
            ],
            [
             0.7,
             "#b8e186"
            ],
            [
             0.8,
             "#7fbc41"
            ],
            [
             0.9,
             "#4d9221"
            ],
            [
             1,
             "#276419"
            ]
           ],
           "sequential": [
            [
             0,
             "#0d0887"
            ],
            [
             0.1111111111111111,
             "#46039f"
            ],
            [
             0.2222222222222222,
             "#7201a8"
            ],
            [
             0.3333333333333333,
             "#9c179e"
            ],
            [
             0.4444444444444444,
             "#bd3786"
            ],
            [
             0.5555555555555556,
             "#d8576b"
            ],
            [
             0.6666666666666666,
             "#ed7953"
            ],
            [
             0.7777777777777778,
             "#fb9f3a"
            ],
            [
             0.8888888888888888,
             "#fdca26"
            ],
            [
             1,
             "#f0f921"
            ]
           ],
           "sequentialminus": [
            [
             0,
             "#0d0887"
            ],
            [
             0.1111111111111111,
             "#46039f"
            ],
            [
             0.2222222222222222,
             "#7201a8"
            ],
            [
             0.3333333333333333,
             "#9c179e"
            ],
            [
             0.4444444444444444,
             "#bd3786"
            ],
            [
             0.5555555555555556,
             "#d8576b"
            ],
            [
             0.6666666666666666,
             "#ed7953"
            ],
            [
             0.7777777777777778,
             "#fb9f3a"
            ],
            [
             0.8888888888888888,
             "#fdca26"
            ],
            [
             1,
             "#f0f921"
            ]
           ]
          },
          "colorway": [
           "#636efa",
           "#EF553B",
           "#00cc96",
           "#ab63fa",
           "#FFA15A",
           "#19d3f3",
           "#FF6692",
           "#B6E880",
           "#FF97FF",
           "#FECB52"
          ],
          "font": {
           "color": "#2a3f5f"
          },
          "geo": {
           "bgcolor": "white",
           "lakecolor": "white",
           "landcolor": "#E5ECF6",
           "showlakes": true,
           "showland": true,
           "subunitcolor": "white"
          },
          "hoverlabel": {
           "align": "left"
          },
          "hovermode": "closest",
          "mapbox": {
           "style": "light"
          },
          "paper_bgcolor": "white",
          "plot_bgcolor": "#E5ECF6",
          "polar": {
           "angularaxis": {
            "gridcolor": "white",
            "linecolor": "white",
            "ticks": ""
           },
           "bgcolor": "#E5ECF6",
           "radialaxis": {
            "gridcolor": "white",
            "linecolor": "white",
            "ticks": ""
           }
          },
          "scene": {
           "xaxis": {
            "backgroundcolor": "#E5ECF6",
            "gridcolor": "white",
            "gridwidth": 2,
            "linecolor": "white",
            "showbackground": true,
            "ticks": "",
            "zerolinecolor": "white"
           },
           "yaxis": {
            "backgroundcolor": "#E5ECF6",
            "gridcolor": "white",
            "gridwidth": 2,
            "linecolor": "white",
            "showbackground": true,
            "ticks": "",
            "zerolinecolor": "white"
           },
           "zaxis": {
            "backgroundcolor": "#E5ECF6",
            "gridcolor": "white",
            "gridwidth": 2,
            "linecolor": "white",
            "showbackground": true,
            "ticks": "",
            "zerolinecolor": "white"
           }
          },
          "shapedefaults": {
           "line": {
            "color": "#2a3f5f"
           }
          },
          "ternary": {
           "aaxis": {
            "gridcolor": "white",
            "linecolor": "white",
            "ticks": ""
           },
           "baxis": {
            "gridcolor": "white",
            "linecolor": "white",
            "ticks": ""
           },
           "bgcolor": "#E5ECF6",
           "caxis": {
            "gridcolor": "white",
            "linecolor": "white",
            "ticks": ""
           }
          },
          "title": {
           "x": 0.05
          },
          "xaxis": {
           "automargin": true,
           "gridcolor": "white",
           "linecolor": "white",
           "ticks": "",
           "title": {
            "standoff": 15
           },
           "zerolinecolor": "white",
           "zerolinewidth": 2
          },
          "yaxis": {
           "automargin": true,
           "gridcolor": "white",
           "linecolor": "white",
           "ticks": "",
           "title": {
            "standoff": 15
           },
           "zerolinecolor": "white",
           "zerolinewidth": 2
          }
         }
        },
        "title": {
         "text": "Total Sequences Timeline"
        },
        "xaxis": {
         "title": {
          "text": "Timestamp"
         }
        },
        "yaxis": {
         "title": {
          "text": "Total Sequences"
         }
        }
       }
      }
     },
     "metadata": {},
     "output_type": "display_data"
    }
   ],
   "source": [
    "# Ensure timestamps are in datetime format\n",
    "df[\"timestamp\"] = pd.to_datetime(df[\"timestamp\"])\n",
    "\n",
    "# Sort by timestamp\n",
    "df = df.sort_values(\"timestamp\")\n",
    "\n",
    "data = [\n",
    "    go.Scatter(\n",
    "        x=df[\"timestamp\"],\n",
    "        y=df[\"total_sequences\"],\n",
    "        mode=\"markers\",\n",
    "        name=\"Total Sequences\",\n",
    "        marker=dict(\n",
    "            size=10,\n",
    "            opacity=0.7\n",
    "        )\n",
    "    )\n",
    "]\n",
    "\n",
    "layout = {\n",
    "    \"title\": \"Total Sequences Timeline\",\n",
    "    \"xaxis\": {\"title\": \"Timestamp\"},\n",
    "    \"yaxis\": {\"title\": \"Total Sequences\"},\n",
    "    \"hovermode\": \"closest\"\n",
    "}\n",
    "\n",
    "go.Figure(data=data, layout=layout).show()"
   ]
  }
 ],
 "metadata": {
  "kernelspec": {
   "display_name": "venv312",
   "language": "python",
   "name": "python3"
  },
  "language_info": {
   "codemirror_mode": {
    "name": "ipython",
    "version": 3
   },
   "file_extension": ".py",
   "mimetype": "text/x-python",
   "name": "python",
   "nbconvert_exporter": "python",
   "pygments_lexer": "ipython3",
   "version": "3.12.7"
  }
 },
 "nbformat": 4,
 "nbformat_minor": 2
}
