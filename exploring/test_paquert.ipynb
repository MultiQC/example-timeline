{
 "cells": [
  {
   "cell_type": "code",
   "execution_count": 24,
   "metadata": {},
   "outputs": [],
   "source": [
    "import os\n",
    "\n",
    "import numpy as np\n",
    "import pandas as pd\n",
    "from humanize import naturalsize\n",
    "\n",
    "\n",
    "def create_dataframe(rows, scenario, **kwargs):\n",
    "    \"\"\"Create a dataframe with controlled repetitiveness based on scenario.\"\"\"\n",
    "    df = pd.DataFrame({\n",
    "        # 'val0': np.random.rand(rows),\n",
    "    })\n",
    "\n",
    "    if scenario == \"unique\":\n",
    "        # All unique values (no repetition)\n",
    "        values = np.random.rand(rows)\n",
    "    \n",
    "    elif scenario == \"repeated_value\":\n",
    "        # Same value repeated n times\n",
    "        repeat_count = min(kwargs['repeat_count'], rows)\n",
    "        values = np.repeat(np.random.rand(rows // repeat_count), repeat_count)\n",
    "        if len(values) < rows:  # Handle remainder\n",
    "            values = np.append(values, np.repeat(values[-1], rows - len(values)))\n",
    "    \n",
    "    elif scenario == \"cyclic\":\n",
    "        # Cyclic pattern of n unique values\n",
    "        unique_values = min(kwargs['unique_values'], rows)\n",
    "        pattern = np.random.rand(unique_values)\n",
    "        cycles = rows // unique_values + 1\n",
    "        values = np.tile(pattern, cycles)[:rows]\n",
    "    \n",
    "    elif scenario == \"low_cardinality\":\n",
    "        # Low cardinality (few unique values)\n",
    "        cardinality = min(kwargs['cardinality'], rows)\n",
    "        values = np.random.choice(np.random.rand(cardinality), size=rows)\n",
    "    \n",
    "    elif scenario == \"high_cardinality\":\n",
    "        # High cardinality (many unique values but with some repetition)\n",
    "        cardinality = min(kwargs['cardinality'], rows)\n",
    "        values = np.random.choice(np.random.rand(cardinality), size=rows)\n",
    "    \n",
    "    elif scenario == \"sorted\":\n",
    "        # Sorted values (good for delta encoding)\n",
    "        values = sorted(np.random.rand(rows))\n",
    "    \n",
    "    # elif scenario == \"multi_column_repetition\":\n",
    "    #     # Multiple columns with repetition patterns\n",
    "    #     repeat_count = kwargs.get('repeat_count', 100)\n",
    "    #     col_count = kwargs.get('col_count', 5)\n",
    "        \n",
    "    #     df = pd.DataFrame({'id': range(rows)})\n",
    "    #     for i in range(col_count):\n",
    "    #         values = np.repeat(np.random.rand(rows // repeat_count), repeat_count)\n",
    "    #         if len(values) < rows:\n",
    "    #             values = np.append(values, np.repeat(values[-1], rows - len(values)))\n",
    "    #         df[f'value_{i}'] = values\n",
    "            \n",
    "    else:\n",
    "        raise ValueError(f\"Unknown scenario: {scenario}\")\n",
    "    \n",
    "    df[\"val1\"] = values\n",
    "    return df\n",
    "\n",
    "\n",
    "def measure_file_size(df, filename, compression=None):\n",
    "    \"\"\"Save dataframe to parquet and return file size in bytes.\"\"\"\n",
    "    filepath = f\"{filename}.parquet\"\n",
    "    df.to_parquet(filepath, compression=compression)\n",
    "    size = os.path.getsize(filepath)\n",
    "    return size"
   ]
  },
  {
   "cell_type": "code",
   "execution_count": 25,
   "metadata": {},
   "outputs": [],
   "source": [
    "\"\"\"Run various experiments measuring parquet compression efficiency.\"\"\"\n",
    "# Configuration\n",
    "rows = 1_000_000\n",
    "# rows = 100\n",
    "results = []\n",
    "\n",
    "# Test scenarios. All contain 5 columns. 4 columns are random, 1 depends on the scenaario\n",
    "scenarios = [\n",
    "    {\"name\": \"Unique Values\", \"func\": \"unique\"},\n",
    "    {\"name\": \"Repeated Values (10x)\", \"func\": \"repeated_value\", \"kwargs\": {\"repeat_count\": 10}},\n",
    "    {\"name\": \"Repeated Values (100x)\", \"func\": \"repeated_value\", \"kwargs\": {\"repeat_count\": 100}},\n",
    "    {\"name\": \"Repeated Values (1000x)\", \"func\": \"repeated_value\", \"kwargs\": {\"repeat_count\": 1000}},\n",
    "    {\"name\": \"Repeated Values (10_000x)\", \"func\": \"repeated_value\", \"kwargs\": {\"repeat_count\": 10_000}},\n",
    "    {\"name\": \"Repeated Values (100_000x)\", \"func\": \"repeated_value\", \"kwargs\": {\"repeat_count\": 100_000}},\n",
    "    {\"name\": \"Repeated Values (1_000_000x)\", \"func\": \"repeated_value\", \"kwargs\": {\"repeat_count\": 1_000_000}},\n",
    "    {\"name\": \"Cyclic (10 values)\", \"func\": \"cyclic\", \"kwargs\": {\"unique_values\": 10}},\n",
    "    {\"name\": \"Cyclic (100 values)\", \"func\": \"cyclic\", \"kwargs\": {\"unique_values\": 100}},\n",
    "    {\"name\": \"Low Cardinality (5 values)\", \"func\": \"low_cardinality\", \"kwargs\": {\"cardinality\": 5}},\n",
    "    {\"name\": \"Low Cardinality (100 values)\", \"func\": \"low_cardinality\", \"kwargs\": {\"cardinality\": 100}},\n",
    "    {\"name\": f\"High Cardinality ({rows // 10} values)\", \"func\": \"high_cardinality\", \"kwargs\": {\"cardinality\": rows // 10}},\n",
    "    {\"name\": \"Sorted Values\", \"func\": \"sorted\"},\n",
    "    # {\"name\": \"Multi-Column (5 cols, 100x repeat)\", \"func\": \"multi_column_repetition\", \"kwargs\": {\"col_count\": 5, \"repeat_count\": 100}},\n",
    "]\n",
    "\n",
    "# Compression methods to test\n",
    "compression_methods = ['brotli']  # None, 'snappy', 'gzip'"
   ]
  },
  {
   "cell_type": "code",
   "execution_count": 26,
   "metadata": {},
   "outputs": [
    {
     "name": "stdout",
     "output_type": "stream",
     "text": [
      "Processing scenario: Unique Values...\n",
      "       val1\n",
      "0  0.777643\n",
      "1  0.294493\n",
      "2  0.773671\n",
      "3  0.657131\n",
      "4  0.330369\n",
      "  Testing with brotli...\n",
      "Processing scenario: Repeated Values (10x)...\n",
      "       val1\n",
      "0  0.012091\n",
      "1  0.012091\n",
      "2  0.012091\n",
      "3  0.012091\n",
      "4  0.012091\n",
      "  Testing with brotli...\n",
      "Processing scenario: Repeated Values (100x)...\n",
      "       val1\n",
      "0  0.148361\n",
      "1  0.148361\n",
      "2  0.148361\n",
      "3  0.148361\n",
      "4  0.148361\n",
      "  Testing with brotli...\n",
      "Processing scenario: Repeated Values (1000x)...\n",
      "       val1\n",
      "0  0.211282\n",
      "1  0.211282\n",
      "2  0.211282\n",
      "3  0.211282\n",
      "4  0.211282\n",
      "  Testing with brotli...\n",
      "Processing scenario: Repeated Values (10_000x)...\n",
      "       val1\n",
      "0  0.403934\n",
      "1  0.403934\n",
      "2  0.403934\n",
      "3  0.403934\n",
      "4  0.403934\n",
      "  Testing with brotli...\n",
      "Processing scenario: Repeated Values (100_000x)...\n",
      "       val1\n",
      "0  0.553732\n",
      "1  0.553732\n",
      "2  0.553732\n",
      "3  0.553732\n",
      "4  0.553732\n",
      "  Testing with brotli...\n",
      "Processing scenario: Repeated Values (1_000_000x)...\n",
      "       val1\n",
      "0  0.645685\n",
      "1  0.645685\n",
      "2  0.645685\n",
      "3  0.645685\n",
      "4  0.645685\n",
      "  Testing with brotli...\n",
      "Processing scenario: Cyclic (10 values)...\n",
      "       val1\n",
      "0  0.777274\n",
      "1  0.279382\n",
      "2  0.105273\n",
      "3  0.210460\n",
      "4  0.219414\n",
      "  Testing with brotli...\n",
      "Processing scenario: Cyclic (100 values)...\n",
      "       val1\n",
      "0  0.056739\n",
      "1  0.343942\n",
      "2  0.378601\n",
      "3  0.559873\n",
      "4  0.116047\n",
      "  Testing with brotli...\n",
      "Processing scenario: Low Cardinality (5 values)...\n",
      "       val1\n",
      "0  0.694590\n",
      "1  0.610235\n",
      "2  0.071169\n",
      "3  0.694590\n",
      "4  0.610235\n",
      "  Testing with brotli...\n",
      "Processing scenario: Low Cardinality (100 values)...\n",
      "       val1\n",
      "0  0.719338\n",
      "1  0.232558\n",
      "2  0.766516\n",
      "3  0.313025\n",
      "4  0.275880\n",
      "  Testing with brotli...\n",
      "Processing scenario: High Cardinality (100000 values)...\n",
      "       val1\n",
      "0  0.283974\n",
      "1  0.464892\n",
      "2  0.466474\n",
      "3  0.487990\n",
      "4  0.226035\n",
      "  Testing with brotli...\n",
      "Processing scenario: Sorted Values...\n",
      "           val1\n",
      "0  3.197418e-07\n",
      "1  3.637908e-06\n",
      "2  4.329283e-06\n",
      "3  5.114105e-06\n",
      "4  6.761792e-06\n",
      "  Testing with brotli...\n",
      "\n",
      "Results Summary:\n",
      "                            Scenario Compression  CSV Size  Parquet Size  Compression Ratio\n",
      "0                      Unique Values      brotli  19269467       7754826           0.402441\n",
      "1              Repeated Values (10x)      brotli  19267885        897506           0.046580\n",
      "2             Repeated Values (100x)      brotli  19270505         88114           0.004572\n",
      "3            Repeated Values (1000x)      brotli  19251005         10404           0.000540\n",
      "4          Repeated Values (10_000x)      brotli  19280005          2491           0.000129\n",
      "5         Repeated Values (100_000x)      brotli  19400005          1704           0.000088\n",
      "6       Repeated Values (1_000_000x)      brotli  19000005          1607           0.000085\n",
      "7                 Cyclic (10 values)      brotli  19400005          1726           0.000089\n",
      "8                Cyclic (100 values)      brotli  19130005          2655           0.000139\n",
      "9         Low Cardinality (5 values)      brotli  19200235        337073           0.017556\n",
      "10      Low Cardinality (100 values)      brotli  19220148        879361           0.045752\n",
      "11  High Cardinality (100000 values)      brotli  19268300       2879746           0.149455\n",
      "12                     Sorted Values      brotli  19269029       5282691           0.274154\n"
     ]
    }
   ],
   "source": [
    "for scenario in scenarios:\n",
    "    kwargs = scenario.get('kwargs', {})\n",
    "    print(f\"Processing scenario: {scenario['name']}...\")\n",
    "    \n",
    "    # Create the dataframe for this scenario\n",
    "    df = create_dataframe(rows, scenario['func'], **kwargs)\n",
    "    print(df.head())\n",
    "    \n",
    "    # Get base CSV size for comparison\n",
    "    csv_filepath = f\"test_{scenario['func']}.csv\"\n",
    "    df.to_csv(csv_filepath, index=False)\n",
    "    csv_size = os.path.getsize(csv_filepath)\n",
    "    \n",
    "    # Test different compression methods\n",
    "    for compression in compression_methods:\n",
    "        compression_name = compression if compression else 'uncompressed'\n",
    "        print(f\"  Testing with {compression_name}...\")\n",
    "        \n",
    "        # Measure size\n",
    "        filename = f\"test_{scenario['func']}_{compression_name}\"\n",
    "        parquet_size = measure_file_size(df, filename, compression)\n",
    "        \n",
    "        # Record results\n",
    "        results.append({\n",
    "            'Scenario': scenario['name'],\n",
    "            'Compression': compression_name,\n",
    "            'CSV Size': csv_size,\n",
    "            'Parquet Size': parquet_size,\n",
    "            'Compression Ratio': parquet_size / csv_size\n",
    "        })\n",
    "        \n",
    "# Convert to DataFrame\n",
    "results_df = pd.DataFrame(results)\n",
    "\n",
    "# Print summary\n",
    "print(\"\\nResults Summary:\")\n",
    "print(results_df.to_string())\n",
    "\n",
    "# Save results\n",
    "results_df.to_csv(\"parquet_compression_results.csv\", index=False)"
   ]
  },
  {
   "cell_type": "code",
   "execution_count": 23,
   "metadata": {},
   "outputs": [
    {
     "data": {
      "application/vnd.plotly.v1+json": {
       "config": {
        "plotlyServerURL": "https://plot.ly"
       },
       "data": [
        {
         "name": "Sorted Values",
         "orientation": "h",
         "type": "bar",
         "x": [
          0.33825205694358373
         ],
         "y": [
          "brotli"
         ]
        },
        {
         "name": "High Cardinality (100000 values)",
         "orientation": "h",
         "type": "bar",
         "x": [
          0.2759163485549529
         ],
         "y": [
          "brotli"
         ]
        },
        {
         "name": "Low Cardinality (100 values)",
         "orientation": "h",
         "type": "bar",
         "x": [
          0.22420042601567064
         ],
         "y": [
          "brotli"
         ]
        },
        {
         "name": "Low Cardinality (5 values)",
         "orientation": "h",
         "type": "bar",
         "x": [
          0.20924882134849612
         ],
         "y": [
          "brotli"
         ]
        },
        {
         "name": "Cyclic (100 values)",
         "orientation": "h",
         "type": "bar",
         "x": [
          0.2024697373397176
         ],
         "y": [
          "brotli"
         ]
        },
        {
         "name": "Cyclic (10 values)",
         "orientation": "h",
         "type": "bar",
         "x": [
          0.20055545766466776
         ],
         "y": [
          "brotli"
         ]
        },
        {
         "name": "Repeated Values (1_000_000x)",
         "orientation": "h",
         "type": "bar",
         "x": [
          0.1975064731874566
         ],
         "y": [
          "brotli"
         ]
        },
        {
         "name": "Repeated Values (100_000x)",
         "orientation": "h",
         "type": "bar",
         "x": [
          0.20005518773049538
         ],
         "y": [
          "brotli"
         ]
        },
        {
         "name": "Repeated Values (10_000x)",
         "orientation": "h",
         "type": "bar",
         "x": [
          0.20131628665901014
         ],
         "y": [
          "brotli"
         ]
        },
        {
         "name": "Repeated Values (1000x)",
         "orientation": "h",
         "type": "bar",
         "x": [
          0.20143950064119304
         ],
         "y": [
          "brotli"
         ]
        },
        {
         "name": "Repeated Values (100x)",
         "orientation": "h",
         "type": "bar",
         "x": [
          0.20351612623127036
         ],
         "y": [
          "brotli"
         ]
        },
        {
         "name": "Repeated Values (10x)",
         "orientation": "h",
         "type": "bar",
         "x": [
          0.22446171171141954
         ],
         "y": [
          "brotli"
         ]
        },
        {
         "name": "Unique Values",
         "orientation": "h",
         "type": "bar",
         "x": [
          0.40243612618292307
         ],
         "y": [
          "brotli"
         ]
        }
       ],
       "layout": {
        "barmode": "group",
        "height": 800,
        "legend": {
         "traceorder": "reversed",
         "x": 1.05,
         "xanchor": "left",
         "y": 1,
         "yanchor": "top"
        },
        "margin": {
         "b": 100,
         "l": 100,
         "r": 100,
         "t": 100
        },
        "template": {
         "data": {
          "bar": [
           {
            "error_x": {
             "color": "#2a3f5f"
            },
            "error_y": {
             "color": "#2a3f5f"
            },
            "marker": {
             "line": {
              "color": "#E5ECF6",
              "width": 0.5
             },
             "pattern": {
              "fillmode": "overlay",
              "size": 10,
              "solidity": 0.2
             }
            },
            "type": "bar"
           }
          ],
          "barpolar": [
           {
            "marker": {
             "line": {
              "color": "#E5ECF6",
              "width": 0.5
             },
             "pattern": {
              "fillmode": "overlay",
              "size": 10,
              "solidity": 0.2
             }
            },
            "type": "barpolar"
           }
          ],
          "carpet": [
           {
            "aaxis": {
             "endlinecolor": "#2a3f5f",
             "gridcolor": "white",
             "linecolor": "white",
             "minorgridcolor": "white",
             "startlinecolor": "#2a3f5f"
            },
            "baxis": {
             "endlinecolor": "#2a3f5f",
             "gridcolor": "white",
             "linecolor": "white",
             "minorgridcolor": "white",
             "startlinecolor": "#2a3f5f"
            },
            "type": "carpet"
           }
          ],
          "choropleth": [
           {
            "colorbar": {
             "outlinewidth": 0,
             "ticks": ""
            },
            "type": "choropleth"
           }
          ],
          "contour": [
           {
            "colorbar": {
             "outlinewidth": 0,
             "ticks": ""
            },
            "colorscale": [
             [
              0,
              "#0d0887"
             ],
             [
              0.1111111111111111,
              "#46039f"
             ],
             [
              0.2222222222222222,
              "#7201a8"
             ],
             [
              0.3333333333333333,
              "#9c179e"
             ],
             [
              0.4444444444444444,
              "#bd3786"
             ],
             [
              0.5555555555555556,
              "#d8576b"
             ],
             [
              0.6666666666666666,
              "#ed7953"
             ],
             [
              0.7777777777777778,
              "#fb9f3a"
             ],
             [
              0.8888888888888888,
              "#fdca26"
             ],
             [
              1,
              "#f0f921"
             ]
            ],
            "type": "contour"
           }
          ],
          "contourcarpet": [
           {
            "colorbar": {
             "outlinewidth": 0,
             "ticks": ""
            },
            "type": "contourcarpet"
           }
          ],
          "heatmap": [
           {
            "colorbar": {
             "outlinewidth": 0,
             "ticks": ""
            },
            "colorscale": [
             [
              0,
              "#0d0887"
             ],
             [
              0.1111111111111111,
              "#46039f"
             ],
             [
              0.2222222222222222,
              "#7201a8"
             ],
             [
              0.3333333333333333,
              "#9c179e"
             ],
             [
              0.4444444444444444,
              "#bd3786"
             ],
             [
              0.5555555555555556,
              "#d8576b"
             ],
             [
              0.6666666666666666,
              "#ed7953"
             ],
             [
              0.7777777777777778,
              "#fb9f3a"
             ],
             [
              0.8888888888888888,
              "#fdca26"
             ],
             [
              1,
              "#f0f921"
             ]
            ],
            "type": "heatmap"
           }
          ],
          "heatmapgl": [
           {
            "colorbar": {
             "outlinewidth": 0,
             "ticks": ""
            },
            "colorscale": [
             [
              0,
              "#0d0887"
             ],
             [
              0.1111111111111111,
              "#46039f"
             ],
             [
              0.2222222222222222,
              "#7201a8"
             ],
             [
              0.3333333333333333,
              "#9c179e"
             ],
             [
              0.4444444444444444,
              "#bd3786"
             ],
             [
              0.5555555555555556,
              "#d8576b"
             ],
             [
              0.6666666666666666,
              "#ed7953"
             ],
             [
              0.7777777777777778,
              "#fb9f3a"
             ],
             [
              0.8888888888888888,
              "#fdca26"
             ],
             [
              1,
              "#f0f921"
             ]
            ],
            "type": "heatmapgl"
           }
          ],
          "histogram": [
           {
            "marker": {
             "pattern": {
              "fillmode": "overlay",
              "size": 10,
              "solidity": 0.2
             }
            },
            "type": "histogram"
           }
          ],
          "histogram2d": [
           {
            "colorbar": {
             "outlinewidth": 0,
             "ticks": ""
            },
            "colorscale": [
             [
              0,
              "#0d0887"
             ],
             [
              0.1111111111111111,
              "#46039f"
             ],
             [
              0.2222222222222222,
              "#7201a8"
             ],
             [
              0.3333333333333333,
              "#9c179e"
             ],
             [
              0.4444444444444444,
              "#bd3786"
             ],
             [
              0.5555555555555556,
              "#d8576b"
             ],
             [
              0.6666666666666666,
              "#ed7953"
             ],
             [
              0.7777777777777778,
              "#fb9f3a"
             ],
             [
              0.8888888888888888,
              "#fdca26"
             ],
             [
              1,
              "#f0f921"
             ]
            ],
            "type": "histogram2d"
           }
          ],
          "histogram2dcontour": [
           {
            "colorbar": {
             "outlinewidth": 0,
             "ticks": ""
            },
            "colorscale": [
             [
              0,
              "#0d0887"
             ],
             [
              0.1111111111111111,
              "#46039f"
             ],
             [
              0.2222222222222222,
              "#7201a8"
             ],
             [
              0.3333333333333333,
              "#9c179e"
             ],
             [
              0.4444444444444444,
              "#bd3786"
             ],
             [
              0.5555555555555556,
              "#d8576b"
             ],
             [
              0.6666666666666666,
              "#ed7953"
             ],
             [
              0.7777777777777778,
              "#fb9f3a"
             ],
             [
              0.8888888888888888,
              "#fdca26"
             ],
             [
              1,
              "#f0f921"
             ]
            ],
            "type": "histogram2dcontour"
           }
          ],
          "mesh3d": [
           {
            "colorbar": {
             "outlinewidth": 0,
             "ticks": ""
            },
            "type": "mesh3d"
           }
          ],
          "parcoords": [
           {
            "line": {
             "colorbar": {
              "outlinewidth": 0,
              "ticks": ""
             }
            },
            "type": "parcoords"
           }
          ],
          "pie": [
           {
            "automargin": true,
            "type": "pie"
           }
          ],
          "scatter": [
           {
            "fillpattern": {
             "fillmode": "overlay",
             "size": 10,
             "solidity": 0.2
            },
            "type": "scatter"
           }
          ],
          "scatter3d": [
           {
            "line": {
             "colorbar": {
              "outlinewidth": 0,
              "ticks": ""
             }
            },
            "marker": {
             "colorbar": {
              "outlinewidth": 0,
              "ticks": ""
             }
            },
            "type": "scatter3d"
           }
          ],
          "scattercarpet": [
           {
            "marker": {
             "colorbar": {
              "outlinewidth": 0,
              "ticks": ""
             }
            },
            "type": "scattercarpet"
           }
          ],
          "scattergeo": [
           {
            "marker": {
             "colorbar": {
              "outlinewidth": 0,
              "ticks": ""
             }
            },
            "type": "scattergeo"
           }
          ],
          "scattergl": [
           {
            "marker": {
             "colorbar": {
              "outlinewidth": 0,
              "ticks": ""
             }
            },
            "type": "scattergl"
           }
          ],
          "scattermapbox": [
           {
            "marker": {
             "colorbar": {
              "outlinewidth": 0,
              "ticks": ""
             }
            },
            "type": "scattermapbox"
           }
          ],
          "scatterpolar": [
           {
            "marker": {
             "colorbar": {
              "outlinewidth": 0,
              "ticks": ""
             }
            },
            "type": "scatterpolar"
           }
          ],
          "scatterpolargl": [
           {
            "marker": {
             "colorbar": {
              "outlinewidth": 0,
              "ticks": ""
             }
            },
            "type": "scatterpolargl"
           }
          ],
          "scatterternary": [
           {
            "marker": {
             "colorbar": {
              "outlinewidth": 0,
              "ticks": ""
             }
            },
            "type": "scatterternary"
           }
          ],
          "surface": [
           {
            "colorbar": {
             "outlinewidth": 0,
             "ticks": ""
            },
            "colorscale": [
             [
              0,
              "#0d0887"
             ],
             [
              0.1111111111111111,
              "#46039f"
             ],
             [
              0.2222222222222222,
              "#7201a8"
             ],
             [
              0.3333333333333333,
              "#9c179e"
             ],
             [
              0.4444444444444444,
              "#bd3786"
             ],
             [
              0.5555555555555556,
              "#d8576b"
             ],
             [
              0.6666666666666666,
              "#ed7953"
             ],
             [
              0.7777777777777778,
              "#fb9f3a"
             ],
             [
              0.8888888888888888,
              "#fdca26"
             ],
             [
              1,
              "#f0f921"
             ]
            ],
            "type": "surface"
           }
          ],
          "table": [
           {
            "cells": {
             "fill": {
              "color": "#EBF0F8"
             },
             "line": {
              "color": "white"
             }
            },
            "header": {
             "fill": {
              "color": "#C8D4E3"
             },
             "line": {
              "color": "white"
             }
            },
            "type": "table"
           }
          ]
         },
         "layout": {
          "annotationdefaults": {
           "arrowcolor": "#2a3f5f",
           "arrowhead": 0,
           "arrowwidth": 1
          },
          "autotypenumbers": "strict",
          "coloraxis": {
           "colorbar": {
            "outlinewidth": 0,
            "ticks": ""
           }
          },
          "colorscale": {
           "diverging": [
            [
             0,
             "#8e0152"
            ],
            [
             0.1,
             "#c51b7d"
            ],
            [
             0.2,
             "#de77ae"
            ],
            [
             0.3,
             "#f1b6da"
            ],
            [
             0.4,
             "#fde0ef"
            ],
            [
             0.5,
             "#f7f7f7"
            ],
            [
             0.6,
             "#e6f5d0"
            ],
            [
             0.7,
             "#b8e186"
            ],
            [
             0.8,
             "#7fbc41"
            ],
            [
             0.9,
             "#4d9221"
            ],
            [
             1,
             "#276419"
            ]
           ],
           "sequential": [
            [
             0,
             "#0d0887"
            ],
            [
             0.1111111111111111,
             "#46039f"
            ],
            [
             0.2222222222222222,
             "#7201a8"
            ],
            [
             0.3333333333333333,
             "#9c179e"
            ],
            [
             0.4444444444444444,
             "#bd3786"
            ],
            [
             0.5555555555555556,
             "#d8576b"
            ],
            [
             0.6666666666666666,
             "#ed7953"
            ],
            [
             0.7777777777777778,
             "#fb9f3a"
            ],
            [
             0.8888888888888888,
             "#fdca26"
            ],
            [
             1,
             "#f0f921"
            ]
           ],
           "sequentialminus": [
            [
             0,
             "#0d0887"
            ],
            [
             0.1111111111111111,
             "#46039f"
            ],
            [
             0.2222222222222222,
             "#7201a8"
            ],
            [
             0.3333333333333333,
             "#9c179e"
            ],
            [
             0.4444444444444444,
             "#bd3786"
            ],
            [
             0.5555555555555556,
             "#d8576b"
            ],
            [
             0.6666666666666666,
             "#ed7953"
            ],
            [
             0.7777777777777778,
             "#fb9f3a"
            ],
            [
             0.8888888888888888,
             "#fdca26"
            ],
            [
             1,
             "#f0f921"
            ]
           ]
          },
          "colorway": [
           "#636efa",
           "#EF553B",
           "#00cc96",
           "#ab63fa",
           "#FFA15A",
           "#19d3f3",
           "#FF6692",
           "#B6E880",
           "#FF97FF",
           "#FECB52"
          ],
          "font": {
           "color": "#2a3f5f"
          },
          "geo": {
           "bgcolor": "white",
           "lakecolor": "white",
           "landcolor": "#E5ECF6",
           "showlakes": true,
           "showland": true,
           "subunitcolor": "white"
          },
          "hoverlabel": {
           "align": "left"
          },
          "hovermode": "closest",
          "mapbox": {
           "style": "light"
          },
          "paper_bgcolor": "white",
          "plot_bgcolor": "#E5ECF6",
          "polar": {
           "angularaxis": {
            "gridcolor": "white",
            "linecolor": "white",
            "ticks": ""
           },
           "bgcolor": "#E5ECF6",
           "radialaxis": {
            "gridcolor": "white",
            "linecolor": "white",
            "ticks": ""
           }
          },
          "scene": {
           "xaxis": {
            "backgroundcolor": "#E5ECF6",
            "gridcolor": "white",
            "gridwidth": 2,
            "linecolor": "white",
            "showbackground": true,
            "ticks": "",
            "zerolinecolor": "white"
           },
           "yaxis": {
            "backgroundcolor": "#E5ECF6",
            "gridcolor": "white",
            "gridwidth": 2,
            "linecolor": "white",
            "showbackground": true,
            "ticks": "",
            "zerolinecolor": "white"
           },
           "zaxis": {
            "backgroundcolor": "#E5ECF6",
            "gridcolor": "white",
            "gridwidth": 2,
            "linecolor": "white",
            "showbackground": true,
            "ticks": "",
            "zerolinecolor": "white"
           }
          },
          "shapedefaults": {
           "line": {
            "color": "#2a3f5f"
           }
          },
          "ternary": {
           "aaxis": {
            "gridcolor": "white",
            "linecolor": "white",
            "ticks": ""
           },
           "baxis": {
            "gridcolor": "white",
            "linecolor": "white",
            "ticks": ""
           },
           "bgcolor": "#E5ECF6",
           "caxis": {
            "gridcolor": "white",
            "linecolor": "white",
            "ticks": ""
           }
          },
          "title": {
           "x": 0.05
          },
          "xaxis": {
           "automargin": true,
           "gridcolor": "white",
           "linecolor": "white",
           "ticks": "",
           "title": {
            "standoff": 15
           },
           "zerolinecolor": "white",
           "zerolinewidth": 2
          },
          "yaxis": {
           "automargin": true,
           "gridcolor": "white",
           "linecolor": "white",
           "ticks": "",
           "title": {
            "standoff": 15
           },
           "zerolinecolor": "white",
           "zerolinewidth": 2
          }
         }
        },
        "title": {
         "text": "Parquet Compression Efficiency by Scenario and Method"
        },
        "width": 1000,
        "xaxis": {
         "title": {
          "text": "Compression Ratio (Parquet Size / CSV Size)"
         }
        },
        "yaxis": {
         "title": {
          "text": "Compression Method"
         }
        }
       }
      }
     },
     "metadata": {},
     "output_type": "display_data"
    }
   ],
   "source": [
    "# Create visualization with plotly\n",
    "import plotly.graph_objects as go\n",
    "\n",
    "# Prepare data for plotting\n",
    "scenarios_df = results_df['Scenario'].unique()\n",
    "compression_methods = results_df['Compression'].unique()\n",
    "\n",
    "# Create figure\n",
    "fig = go.Figure()\n",
    "\n",
    "# Add traces for each scenario in reverse order to match legend with bars\n",
    "for scenario_name in reversed(scenarios_df):\n",
    "    data = results_df[results_df['Scenario'] == scenario_name]\n",
    "    \n",
    "    fig.add_trace(go.Bar(\n",
    "        y=data['Compression'],\n",
    "        x=data['Compression Ratio'],\n",
    "        name=scenario_name,\n",
    "        orientation='h'\n",
    "    ))\n",
    "\n",
    "# Update layout\n",
    "fig.update_layout(\n",
    "    title='Parquet Compression Efficiency by Scenario and Method',\n",
    "    xaxis_title='Compression Ratio (Parquet Size / CSV Size)',\n",
    "    yaxis_title='Compression Method',\n",
    "    barmode='group',\n",
    "    height=800,\n",
    "    width=1000,\n",
    "    legend=dict(\n",
    "        x=1.05,\n",
    "        y=1,\n",
    "        xanchor='left',\n",
    "        yanchor='top',\n",
    "        traceorder='reversed'  # Ensure legend order matches visual order\n",
    "    ),\n",
    "    margin=dict(l=100, r=100, t=100, b=100)\n",
    ")\n",
    "\n",
    "# Save as image\n",
    "fig.write_image('parquet_compression_chart.png')\n",
    "\n",
    "# Show interactive plot\n",
    "fig.show()"
   ]
  },
  {
   "cell_type": "code",
   "execution_count": 27,
   "metadata": {},
   "outputs": [
    {
     "data": {
      "application/vnd.plotly.v1+json": {
       "config": {
        "plotlyServerURL": "https://plot.ly"
       },
       "data": [
        {
         "name": "Sorted Values",
         "orientation": "h",
         "type": "bar",
         "x": [
          0.27415449943014775
         ],
         "y": [
          "brotli"
         ]
        },
        {
         "name": "High Cardinality (100000 values)",
         "orientation": "h",
         "type": "bar",
         "x": [
          0.14945511539679163
         ],
         "y": [
          "brotli"
         ]
        },
        {
         "name": "Low Cardinality (100 values)",
         "orientation": "h",
         "type": "bar",
         "x": [
          0.045752041035271945
         ],
         "y": [
          "brotli"
         ]
        },
        {
         "name": "Low Cardinality (5 values)",
         "orientation": "h",
         "type": "bar",
         "x": [
          0.01755567054257409
         ],
         "y": [
          "brotli"
         ]
        },
        {
         "name": "Cyclic (100 values)",
         "orientation": "h",
         "type": "bar",
         "x": [
          0.0001387872088899088
         ],
         "y": [
          "brotli"
         ]
        },
        {
         "name": "Cyclic (10 values)",
         "orientation": "h",
         "type": "bar",
         "x": [
          0.00008896904923478112
         ],
         "y": [
          "brotli"
         ]
        },
        {
         "name": "Repeated Values (1_000_000x)",
         "orientation": "h",
         "type": "bar",
         "x": [
          0.00008457892511080918
         ],
         "y": [
          "brotli"
         ]
        },
        {
         "name": "Repeated Values (100_000x)",
         "orientation": "h",
         "type": "bar",
         "x": [
          0.00008783502890849771
         ],
         "y": [
          "brotli"
         ]
        },
        {
         "name": "Repeated Values (10_000x)",
         "orientation": "h",
         "type": "bar",
         "x": [
          0.0001292012113067398
         ],
         "y": [
          "brotli"
         ]
        },
        {
         "name": "Repeated Values (1000x)",
         "orientation": "h",
         "type": "bar",
         "x": [
          0.0005404393173239527
         ],
         "y": [
          "brotli"
         ]
        },
        {
         "name": "Repeated Values (100x)",
         "orientation": "h",
         "type": "bar",
         "x": [
          0.004572480067336066
         ],
         "y": [
          "brotli"
         ]
        },
        {
         "name": "Repeated Values (10x)",
         "orientation": "h",
         "type": "bar",
         "x": [
          0.04658041087540225
         ],
         "y": [
          "brotli"
         ]
        },
        {
         "name": "Unique Values",
         "orientation": "h",
         "type": "bar",
         "x": [
          0.40244112616088445
         ],
         "y": [
          "brotli"
         ]
        }
       ],
       "layout": {
        "barmode": "group",
        "height": 800,
        "legend": {
         "traceorder": "reversed",
         "x": 1.05,
         "xanchor": "left",
         "y": 1,
         "yanchor": "top"
        },
        "margin": {
         "b": 100,
         "l": 100,
         "r": 100,
         "t": 100
        },
        "template": {
         "data": {
          "bar": [
           {
            "error_x": {
             "color": "#2a3f5f"
            },
            "error_y": {
             "color": "#2a3f5f"
            },
            "marker": {
             "line": {
              "color": "#E5ECF6",
              "width": 0.5
             },
             "pattern": {
              "fillmode": "overlay",
              "size": 10,
              "solidity": 0.2
             }
            },
            "type": "bar"
           }
          ],
          "barpolar": [
           {
            "marker": {
             "line": {
              "color": "#E5ECF6",
              "width": 0.5
             },
             "pattern": {
              "fillmode": "overlay",
              "size": 10,
              "solidity": 0.2
             }
            },
            "type": "barpolar"
           }
          ],
          "carpet": [
           {
            "aaxis": {
             "endlinecolor": "#2a3f5f",
             "gridcolor": "white",
             "linecolor": "white",
             "minorgridcolor": "white",
             "startlinecolor": "#2a3f5f"
            },
            "baxis": {
             "endlinecolor": "#2a3f5f",
             "gridcolor": "white",
             "linecolor": "white",
             "minorgridcolor": "white",
             "startlinecolor": "#2a3f5f"
            },
            "type": "carpet"
           }
          ],
          "choropleth": [
           {
            "colorbar": {
             "outlinewidth": 0,
             "ticks": ""
            },
            "type": "choropleth"
           }
          ],
          "contour": [
           {
            "colorbar": {
             "outlinewidth": 0,
             "ticks": ""
            },
            "colorscale": [
             [
              0,
              "#0d0887"
             ],
             [
              0.1111111111111111,
              "#46039f"
             ],
             [
              0.2222222222222222,
              "#7201a8"
             ],
             [
              0.3333333333333333,
              "#9c179e"
             ],
             [
              0.4444444444444444,
              "#bd3786"
             ],
             [
              0.5555555555555556,
              "#d8576b"
             ],
             [
              0.6666666666666666,
              "#ed7953"
             ],
             [
              0.7777777777777778,
              "#fb9f3a"
             ],
             [
              0.8888888888888888,
              "#fdca26"
             ],
             [
              1,
              "#f0f921"
             ]
            ],
            "type": "contour"
           }
          ],
          "contourcarpet": [
           {
            "colorbar": {
             "outlinewidth": 0,
             "ticks": ""
            },
            "type": "contourcarpet"
           }
          ],
          "heatmap": [
           {
            "colorbar": {
             "outlinewidth": 0,
             "ticks": ""
            },
            "colorscale": [
             [
              0,
              "#0d0887"
             ],
             [
              0.1111111111111111,
              "#46039f"
             ],
             [
              0.2222222222222222,
              "#7201a8"
             ],
             [
              0.3333333333333333,
              "#9c179e"
             ],
             [
              0.4444444444444444,
              "#bd3786"
             ],
             [
              0.5555555555555556,
              "#d8576b"
             ],
             [
              0.6666666666666666,
              "#ed7953"
             ],
             [
              0.7777777777777778,
              "#fb9f3a"
             ],
             [
              0.8888888888888888,
              "#fdca26"
             ],
             [
              1,
              "#f0f921"
             ]
            ],
            "type": "heatmap"
           }
          ],
          "heatmapgl": [
           {
            "colorbar": {
             "outlinewidth": 0,
             "ticks": ""
            },
            "colorscale": [
             [
              0,
              "#0d0887"
             ],
             [
              0.1111111111111111,
              "#46039f"
             ],
             [
              0.2222222222222222,
              "#7201a8"
             ],
             [
              0.3333333333333333,
              "#9c179e"
             ],
             [
              0.4444444444444444,
              "#bd3786"
             ],
             [
              0.5555555555555556,
              "#d8576b"
             ],
             [
              0.6666666666666666,
              "#ed7953"
             ],
             [
              0.7777777777777778,
              "#fb9f3a"
             ],
             [
              0.8888888888888888,
              "#fdca26"
             ],
             [
              1,
              "#f0f921"
             ]
            ],
            "type": "heatmapgl"
           }
          ],
          "histogram": [
           {
            "marker": {
             "pattern": {
              "fillmode": "overlay",
              "size": 10,
              "solidity": 0.2
             }
            },
            "type": "histogram"
           }
          ],
          "histogram2d": [
           {
            "colorbar": {
             "outlinewidth": 0,
             "ticks": ""
            },
            "colorscale": [
             [
              0,
              "#0d0887"
             ],
             [
              0.1111111111111111,
              "#46039f"
             ],
             [
              0.2222222222222222,
              "#7201a8"
             ],
             [
              0.3333333333333333,
              "#9c179e"
             ],
             [
              0.4444444444444444,
              "#bd3786"
             ],
             [
              0.5555555555555556,
              "#d8576b"
             ],
             [
              0.6666666666666666,
              "#ed7953"
             ],
             [
              0.7777777777777778,
              "#fb9f3a"
             ],
             [
              0.8888888888888888,
              "#fdca26"
             ],
             [
              1,
              "#f0f921"
             ]
            ],
            "type": "histogram2d"
           }
          ],
          "histogram2dcontour": [
           {
            "colorbar": {
             "outlinewidth": 0,
             "ticks": ""
            },
            "colorscale": [
             [
              0,
              "#0d0887"
             ],
             [
              0.1111111111111111,
              "#46039f"
             ],
             [
              0.2222222222222222,
              "#7201a8"
             ],
             [
              0.3333333333333333,
              "#9c179e"
             ],
             [
              0.4444444444444444,
              "#bd3786"
             ],
             [
              0.5555555555555556,
              "#d8576b"
             ],
             [
              0.6666666666666666,
              "#ed7953"
             ],
             [
              0.7777777777777778,
              "#fb9f3a"
             ],
             [
              0.8888888888888888,
              "#fdca26"
             ],
             [
              1,
              "#f0f921"
             ]
            ],
            "type": "histogram2dcontour"
           }
          ],
          "mesh3d": [
           {
            "colorbar": {
             "outlinewidth": 0,
             "ticks": ""
            },
            "type": "mesh3d"
           }
          ],
          "parcoords": [
           {
            "line": {
             "colorbar": {
              "outlinewidth": 0,
              "ticks": ""
             }
            },
            "type": "parcoords"
           }
          ],
          "pie": [
           {
            "automargin": true,
            "type": "pie"
           }
          ],
          "scatter": [
           {
            "fillpattern": {
             "fillmode": "overlay",
             "size": 10,
             "solidity": 0.2
            },
            "type": "scatter"
           }
          ],
          "scatter3d": [
           {
            "line": {
             "colorbar": {
              "outlinewidth": 0,
              "ticks": ""
             }
            },
            "marker": {
             "colorbar": {
              "outlinewidth": 0,
              "ticks": ""
             }
            },
            "type": "scatter3d"
           }
          ],
          "scattercarpet": [
           {
            "marker": {
             "colorbar": {
              "outlinewidth": 0,
              "ticks": ""
             }
            },
            "type": "scattercarpet"
           }
          ],
          "scattergeo": [
           {
            "marker": {
             "colorbar": {
              "outlinewidth": 0,
              "ticks": ""
             }
            },
            "type": "scattergeo"
           }
          ],
          "scattergl": [
           {
            "marker": {
             "colorbar": {
              "outlinewidth": 0,
              "ticks": ""
             }
            },
            "type": "scattergl"
           }
          ],
          "scattermapbox": [
           {
            "marker": {
             "colorbar": {
              "outlinewidth": 0,
              "ticks": ""
             }
            },
            "type": "scattermapbox"
           }
          ],
          "scatterpolar": [
           {
            "marker": {
             "colorbar": {
              "outlinewidth": 0,
              "ticks": ""
             }
            },
            "type": "scatterpolar"
           }
          ],
          "scatterpolargl": [
           {
            "marker": {
             "colorbar": {
              "outlinewidth": 0,
              "ticks": ""
             }
            },
            "type": "scatterpolargl"
           }
          ],
          "scatterternary": [
           {
            "marker": {
             "colorbar": {
              "outlinewidth": 0,
              "ticks": ""
             }
            },
            "type": "scatterternary"
           }
          ],
          "surface": [
           {
            "colorbar": {
             "outlinewidth": 0,
             "ticks": ""
            },
            "colorscale": [
             [
              0,
              "#0d0887"
             ],
             [
              0.1111111111111111,
              "#46039f"
             ],
             [
              0.2222222222222222,
              "#7201a8"
             ],
             [
              0.3333333333333333,
              "#9c179e"
             ],
             [
              0.4444444444444444,
              "#bd3786"
             ],
             [
              0.5555555555555556,
              "#d8576b"
             ],
             [
              0.6666666666666666,
              "#ed7953"
             ],
             [
              0.7777777777777778,
              "#fb9f3a"
             ],
             [
              0.8888888888888888,
              "#fdca26"
             ],
             [
              1,
              "#f0f921"
             ]
            ],
            "type": "surface"
           }
          ],
          "table": [
           {
            "cells": {
             "fill": {
              "color": "#EBF0F8"
             },
             "line": {
              "color": "white"
             }
            },
            "header": {
             "fill": {
              "color": "#C8D4E3"
             },
             "line": {
              "color": "white"
             }
            },
            "type": "table"
           }
          ]
         },
         "layout": {
          "annotationdefaults": {
           "arrowcolor": "#2a3f5f",
           "arrowhead": 0,
           "arrowwidth": 1
          },
          "autotypenumbers": "strict",
          "coloraxis": {
           "colorbar": {
            "outlinewidth": 0,
            "ticks": ""
           }
          },
          "colorscale": {
           "diverging": [
            [
             0,
             "#8e0152"
            ],
            [
             0.1,
             "#c51b7d"
            ],
            [
             0.2,
             "#de77ae"
            ],
            [
             0.3,
             "#f1b6da"
            ],
            [
             0.4,
             "#fde0ef"
            ],
            [
             0.5,
             "#f7f7f7"
            ],
            [
             0.6,
             "#e6f5d0"
            ],
            [
             0.7,
             "#b8e186"
            ],
            [
             0.8,
             "#7fbc41"
            ],
            [
             0.9,
             "#4d9221"
            ],
            [
             1,
             "#276419"
            ]
           ],
           "sequential": [
            [
             0,
             "#0d0887"
            ],
            [
             0.1111111111111111,
             "#46039f"
            ],
            [
             0.2222222222222222,
             "#7201a8"
            ],
            [
             0.3333333333333333,
             "#9c179e"
            ],
            [
             0.4444444444444444,
             "#bd3786"
            ],
            [
             0.5555555555555556,
             "#d8576b"
            ],
            [
             0.6666666666666666,
             "#ed7953"
            ],
            [
             0.7777777777777778,
             "#fb9f3a"
            ],
            [
             0.8888888888888888,
             "#fdca26"
            ],
            [
             1,
             "#f0f921"
            ]
           ],
           "sequentialminus": [
            [
             0,
             "#0d0887"
            ],
            [
             0.1111111111111111,
             "#46039f"
            ],
            [
             0.2222222222222222,
             "#7201a8"
            ],
            [
             0.3333333333333333,
             "#9c179e"
            ],
            [
             0.4444444444444444,
             "#bd3786"
            ],
            [
             0.5555555555555556,
             "#d8576b"
            ],
            [
             0.6666666666666666,
             "#ed7953"
            ],
            [
             0.7777777777777778,
             "#fb9f3a"
            ],
            [
             0.8888888888888888,
             "#fdca26"
            ],
            [
             1,
             "#f0f921"
            ]
           ]
          },
          "colorway": [
           "#636efa",
           "#EF553B",
           "#00cc96",
           "#ab63fa",
           "#FFA15A",
           "#19d3f3",
           "#FF6692",
           "#B6E880",
           "#FF97FF",
           "#FECB52"
          ],
          "font": {
           "color": "#2a3f5f"
          },
          "geo": {
           "bgcolor": "white",
           "lakecolor": "white",
           "landcolor": "#E5ECF6",
           "showlakes": true,
           "showland": true,
           "subunitcolor": "white"
          },
          "hoverlabel": {
           "align": "left"
          },
          "hovermode": "closest",
          "mapbox": {
           "style": "light"
          },
          "paper_bgcolor": "white",
          "plot_bgcolor": "#E5ECF6",
          "polar": {
           "angularaxis": {
            "gridcolor": "white",
            "linecolor": "white",
            "ticks": ""
           },
           "bgcolor": "#E5ECF6",
           "radialaxis": {
            "gridcolor": "white",
            "linecolor": "white",
            "ticks": ""
           }
          },
          "scene": {
           "xaxis": {
            "backgroundcolor": "#E5ECF6",
            "gridcolor": "white",
            "gridwidth": 2,
            "linecolor": "white",
            "showbackground": true,
            "ticks": "",
            "zerolinecolor": "white"
           },
           "yaxis": {
            "backgroundcolor": "#E5ECF6",
            "gridcolor": "white",
            "gridwidth": 2,
            "linecolor": "white",
            "showbackground": true,
            "ticks": "",
            "zerolinecolor": "white"
           },
           "zaxis": {
            "backgroundcolor": "#E5ECF6",
            "gridcolor": "white",
            "gridwidth": 2,
            "linecolor": "white",
            "showbackground": true,
            "ticks": "",
            "zerolinecolor": "white"
           }
          },
          "shapedefaults": {
           "line": {
            "color": "#2a3f5f"
           }
          },
          "ternary": {
           "aaxis": {
            "gridcolor": "white",
            "linecolor": "white",
            "ticks": ""
           },
           "baxis": {
            "gridcolor": "white",
            "linecolor": "white",
            "ticks": ""
           },
           "bgcolor": "#E5ECF6",
           "caxis": {
            "gridcolor": "white",
            "linecolor": "white",
            "ticks": ""
           }
          },
          "title": {
           "x": 0.05
          },
          "xaxis": {
           "automargin": true,
           "gridcolor": "white",
           "linecolor": "white",
           "ticks": "",
           "title": {
            "standoff": 15
           },
           "zerolinecolor": "white",
           "zerolinewidth": 2
          },
          "yaxis": {
           "automargin": true,
           "gridcolor": "white",
           "linecolor": "white",
           "ticks": "",
           "title": {
            "standoff": 15
           },
           "zerolinecolor": "white",
           "zerolinewidth": 2
          }
         }
        },
        "title": {
         "text": "Parquet Compression Efficiency by Scenario and Method"
        },
        "width": 1000,
        "xaxis": {
         "title": {
          "text": "Compression Ratio (Parquet Size / CSV Size)"
         }
        },
        "yaxis": {
         "title": {
          "text": "Compression Method"
         }
        }
       }
      }
     },
     "metadata": {},
     "output_type": "display_data"
    }
   ],
   "source": [
    "# Create visualization with plotly\n",
    "import plotly.graph_objects as go\n",
    "\n",
    "# Prepare data for plotting\n",
    "scenarios_df = results_df['Scenario'].unique()\n",
    "compression_methods = results_df['Compression'].unique()\n",
    "\n",
    "# Create figure\n",
    "fig = go.Figure()\n",
    "\n",
    "# Add traces for each scenario in reverse order to match legend with bars\n",
    "for scenario_name in reversed(scenarios_df):\n",
    "    data = results_df[results_df['Scenario'] == scenario_name]\n",
    "    \n",
    "    fig.add_trace(go.Bar(\n",
    "        y=data['Compression'],\n",
    "        x=data['Compression Ratio'],\n",
    "        name=scenario_name,\n",
    "        orientation='h'\n",
    "    ))\n",
    "\n",
    "# Update layout\n",
    "fig.update_layout(\n",
    "    title='Parquet Compression Efficiency by Scenario and Method',\n",
    "    xaxis_title='Compression Ratio (Parquet Size / CSV Size)',\n",
    "    yaxis_title='Compression Method',\n",
    "    barmode='group',\n",
    "    height=800,\n",
    "    width=1000,\n",
    "    legend=dict(\n",
    "        x=1.05,\n",
    "        y=1,\n",
    "        xanchor='left',\n",
    "        yanchor='top',\n",
    "        traceorder='reversed'  # Ensure legend order matches visual order\n",
    "    ),\n",
    "    margin=dict(l=100, r=100, t=100, b=100)\n",
    ")\n",
    "\n",
    "# Save as image\n",
    "fig.write_image('parquet_compression_chart.png')\n",
    "\n",
    "# Show interactive plot\n",
    "fig.show()"
   ]
  }
 ],
 "metadata": {
  "kernelspec": {
   "display_name": "venv312",
   "language": "python",
   "name": "python3"
  },
  "language_info": {
   "codemirror_mode": {
    "name": "ipython",
    "version": 3
   },
   "file_extension": ".py",
   "mimetype": "text/x-python",
   "name": "python",
   "nbconvert_exporter": "python",
   "pygments_lexer": "ipython3",
   "version": "3.12.7"
  }
 },
 "nbformat": 4,
 "nbformat_minor": 2
}
